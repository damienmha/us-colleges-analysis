{
 "cells": [
  {
   "cell_type": "markdown",
   "id": "750612ac-c9b9-426f-be51-c1c1ec7f347b",
   "metadata": {},
   "source": [
    "# College Admissions Analysis"
   ]
  },
  {
   "cell_type": "markdown",
   "id": "46b12118-a4b4-4a83-8566-040110265817",
   "metadata": {},
   "source": [
    "## by Damien Ha"
   ]
  },
  {
   "cell_type": "code",
   "execution_count": 1,
   "id": "f52d7bc1-a7c3-41e1-890d-181db993b3b8",
   "metadata": {},
   "outputs": [],
   "source": [
    "import pandas as pd\n",
    "import numpy as np\n",
    "import matplotlib\n",
    "import matplotlib.pyplot as plt\n",
    "import seaborn as sns\n",
    "import sklearn\n",
    "from sklearn.preprocessing import LabelEncoder, StandardScaler\n",
    "from sklearn.compose import ColumnTransformer\n",
    "from sklearn.model_selection import train_test_split\n",
    "from sklearn import metrics\n",
    "from sklearn.linear_model import LogisticRegression\n",
    "from sklearn.neighbors import KNeighborsClassifier\n",
    "from sklearn.svm import SVC\n",
    "from sklearn.tree import DecisionTreeClassifier\n",
    "from sklearn.neural_network import MLPClassifier\n",
    "from sklearn.metrics import accuracy_score\n",
    "from sklearn.pipeline import Pipeline"
   ]
  },
  {
   "cell_type": "code",
   "execution_count": 2,
   "id": "a0c21da7-0adc-493d-b5e4-fab69d3bb99d",
   "metadata": {},
   "outputs": [
    {
     "data": {
      "text/html": [
       "<div>\n",
       "<style scoped>\n",
       "    .dataframe tbody tr th:only-of-type {\n",
       "        vertical-align: middle;\n",
       "    }\n",
       "\n",
       "    .dataframe tbody tr th {\n",
       "        vertical-align: top;\n",
       "    }\n",
       "\n",
       "    .dataframe thead th {\n",
       "        text-align: right;\n",
       "    }\n",
       "</style>\n",
       "<table border=\"1\" class=\"dataframe\">\n",
       "  <thead>\n",
       "    <tr style=\"text-align: right;\">\n",
       "      <th></th>\n",
       "      <th>Rank</th>\n",
       "      <th>College Name</th>\n",
       "      <th>State</th>\n",
       "      <th>Undergraduate Tuition &amp; Fees</th>\n",
       "      <th>SAT Score</th>\n",
       "      <th>Acceptance Rate</th>\n",
       "      <th>Population</th>\n",
       "      <th>Graduation Rate</th>\n",
       "      <th>Student to Faculty Ratio</th>\n",
       "    </tr>\n",
       "  </thead>\n",
       "  <tbody>\n",
       "    <tr>\n",
       "      <th>0</th>\n",
       "      <td>1</td>\n",
       "      <td>Stanford University</td>\n",
       "      <td>CA</td>\n",
       "      <td>$56,169</td>\n",
       "      <td>1505</td>\n",
       "      <td>0.04</td>\n",
       "      <td>17381</td>\n",
       "      <td>0.94</td>\n",
       "      <td>5 to 1</td>\n",
       "    </tr>\n",
       "    <tr>\n",
       "      <th>1</th>\n",
       "      <td>2</td>\n",
       "      <td>Harvard University</td>\n",
       "      <td>MA</td>\n",
       "      <td>$54,002</td>\n",
       "      <td>1515</td>\n",
       "      <td>0.05</td>\n",
       "      <td>31566</td>\n",
       "      <td>0.97</td>\n",
       "      <td>7 to 1</td>\n",
       "    </tr>\n",
       "    <tr>\n",
       "      <th>2</th>\n",
       "      <td>3</td>\n",
       "      <td>Princeton University</td>\n",
       "      <td>NJ</td>\n",
       "      <td>$48,502</td>\n",
       "      <td>1515</td>\n",
       "      <td>0.06</td>\n",
       "      <td>8374</td>\n",
       "      <td>0.98</td>\n",
       "      <td>5 to 1</td>\n",
       "    </tr>\n",
       "    <tr>\n",
       "      <th>3</th>\n",
       "      <td>4</td>\n",
       "      <td>Massachusetts Institute of Technology</td>\n",
       "      <td>MA</td>\n",
       "      <td>$53,450</td>\n",
       "      <td>1540</td>\n",
       "      <td>0.07</td>\n",
       "      <td>11574</td>\n",
       "      <td>0.95</td>\n",
       "      <td>3 to 1</td>\n",
       "    </tr>\n",
       "    <tr>\n",
       "      <th>4</th>\n",
       "      <td>5</td>\n",
       "      <td>Columbia University in the City of New York</td>\n",
       "      <td>NY</td>\n",
       "      <td>$61,671</td>\n",
       "      <td>1505</td>\n",
       "      <td>0.05</td>\n",
       "      <td>31077</td>\n",
       "      <td>0.95</td>\n",
       "      <td>6 to 1</td>\n",
       "    </tr>\n",
       "  </tbody>\n",
       "</table>\n",
       "</div>"
      ],
      "text/plain": [
       "   Rank                                 College Name State   \n",
       "0     1                          Stanford University    CA  \\\n",
       "1     2                           Harvard University    MA   \n",
       "2     3                         Princeton University    NJ   \n",
       "3     4        Massachusetts Institute of Technology    MA   \n",
       "4     5  Columbia University in the City of New York    NY   \n",
       "\n",
       "  Undergraduate Tuition & Fees SAT Score  Acceptance Rate  Population   \n",
       "0                      $56,169      1505             0.04       17381  \\\n",
       "1                      $54,002      1515             0.05       31566   \n",
       "2                      $48,502      1515             0.06        8374   \n",
       "3                      $53,450      1540             0.07       11574   \n",
       "4                      $61,671      1505             0.05       31077   \n",
       "\n",
       "   Graduation Rate Student to Faculty Ratio  \n",
       "0             0.94                   5 to 1  \n",
       "1             0.97                   7 to 1  \n",
       "2             0.98                   5 to 1  \n",
       "3             0.95                   3 to 1  \n",
       "4             0.95                   6 to 1  "
      ]
     },
     "execution_count": 2,
     "metadata": {},
     "output_type": "execute_result"
    }
   ],
   "source": [
    "df = pd.read_excel(\"Top100_US_colleges.xlsx\")\n",
    "df.head()"
   ]
  },
  {
   "cell_type": "code",
   "execution_count": 3,
   "id": "2731b6cf-eeb8-4990-9ffa-c6dee530c844",
   "metadata": {},
   "outputs": [
    {
     "name": "stdout",
     "output_type": "stream",
     "text": [
      "(100, 9)\n"
     ]
    }
   ],
   "source": [
    "print(df.shape)"
   ]
  },
  {
   "cell_type": "code",
   "execution_count": 4,
   "id": "fe12ba3e-4216-40ad-8be1-e2a1dd43385b",
   "metadata": {},
   "outputs": [
    {
     "data": {
      "text/plain": [
       "Rank                            0\n",
       "College Name                    0\n",
       "State                           0\n",
       "Undergraduate Tuition & Fees    0\n",
       "SAT Score                       0\n",
       "Acceptance Rate                 0\n",
       "Population                      0\n",
       "Graduation Rate                 0\n",
       "Student to Faculty Ratio        0\n",
       "dtype: int64"
      ]
     },
     "execution_count": 4,
     "metadata": {},
     "output_type": "execute_result"
    }
   ],
   "source": [
    "df.isna().sum()"
   ]
  },
  {
   "cell_type": "code",
   "execution_count": 5,
   "id": "e46883c1-5dab-4ecf-8bc5-98299d9ee989",
   "metadata": {},
   "outputs": [
    {
     "data": {
      "text/plain": [
       "Rank                              int64\n",
       "College Name                     object\n",
       "State                            object\n",
       "Undergraduate Tuition & Fees     object\n",
       "SAT Score                        object\n",
       "Acceptance Rate                 float64\n",
       "Population                        int64\n",
       "Graduation Rate                 float64\n",
       "Student to Faculty Ratio         object\n",
       "dtype: object"
      ]
     },
     "execution_count": 5,
     "metadata": {},
     "output_type": "execute_result"
    }
   ],
   "source": [
    "df.dtypes"
   ]
  },
  {
   "cell_type": "code",
   "execution_count": 6,
   "id": "8da2219a-4fb8-4e3c-aa6e-79c8d635d0a3",
   "metadata": {},
   "outputs": [
    {
     "data": {
      "text/html": [
       "<div>\n",
       "<style scoped>\n",
       "    .dataframe tbody tr th:only-of-type {\n",
       "        vertical-align: middle;\n",
       "    }\n",
       "\n",
       "    .dataframe tbody tr th {\n",
       "        vertical-align: top;\n",
       "    }\n",
       "\n",
       "    .dataframe thead th {\n",
       "        text-align: right;\n",
       "    }\n",
       "</style>\n",
       "<table border=\"1\" class=\"dataframe\">\n",
       "  <thead>\n",
       "    <tr style=\"text-align: right;\">\n",
       "      <th></th>\n",
       "      <th>Rank</th>\n",
       "      <th>College Name</th>\n",
       "      <th>State</th>\n",
       "      <th>Undergraduate Tuition &amp; Fees</th>\n",
       "      <th>SAT Score</th>\n",
       "      <th>Acceptance Rate</th>\n",
       "      <th>Population</th>\n",
       "      <th>Graduation Rate</th>\n",
       "      <th>Student to Faculty Ratio</th>\n",
       "    </tr>\n",
       "  </thead>\n",
       "  <tbody>\n",
       "    <tr>\n",
       "      <th>79</th>\n",
       "      <td>80</td>\n",
       "      <td>Wake Forest University</td>\n",
       "      <td>NC</td>\n",
       "      <td>$57,760</td>\n",
       "      <td>-</td>\n",
       "      <td>0.3</td>\n",
       "      <td>8401</td>\n",
       "      <td>0.88</td>\n",
       "      <td>10 to 1</td>\n",
       "    </tr>\n",
       "  </tbody>\n",
       "</table>\n",
       "</div>"
      ],
      "text/plain": [
       "    Rank            College Name State Undergraduate Tuition & Fees SAT Score   \n",
       "79    80  Wake Forest University    NC                      $57,760         -  \\\n",
       "\n",
       "    Acceptance Rate  Population  Graduation Rate Student to Faculty Ratio  \n",
       "79              0.3        8401             0.88                  10 to 1  "
      ]
     },
     "execution_count": 6,
     "metadata": {},
     "output_type": "execute_result"
    }
   ],
   "source": [
    "df.loc[df['SAT Score'] == '-']"
   ]
  },
  {
   "cell_type": "code",
   "execution_count": 7,
   "id": "99be19c5-d2b7-491a-98e6-7fd39cef0dda",
   "metadata": {},
   "outputs": [],
   "source": [
    "df['SAT Score'].replace({'-': np.nan}, inplace=True)"
   ]
  },
  {
   "cell_type": "code",
   "execution_count": 8,
   "id": "87c2430b-2317-4ecb-96b7-027b0970d608",
   "metadata": {},
   "outputs": [
    {
     "name": "stdout",
     "output_type": "stream",
     "text": [
      "The average SAT score of the top 100 colleges in the US is 1368.0\n",
      "The average acceptance rate of the top 100 colleges in the US is 36.68000000000001%\n",
      "The average graduation rate of the top 100 colleges in the US is 84.67%\n"
     ]
    }
   ],
   "source": [
    "# Print some average statistics\n",
    "print(\"The average SAT score of the top 100 colleges in the US is \" + str(round(df['SAT Score'].mean(), 0)))\n",
    "print(\"The average acceptance rate of the top 100 colleges in the US is \" + str(df['Acceptance Rate'].mean()*100) + \"%\")\n",
    "print(\"The average graduation rate of the top 100 colleges in the US is \" + str(round(df['Graduation Rate'].mean()*100, 2)) + \"%\")"
   ]
  },
  {
   "cell_type": "code",
   "execution_count": 9,
   "id": "80856596-aa6f-475e-baaf-49a3aa4100a7",
   "metadata": {},
   "outputs": [
    {
     "data": {
      "text/html": [
       "<div>\n",
       "<style scoped>\n",
       "    .dataframe tbody tr th:only-of-type {\n",
       "        vertical-align: middle;\n",
       "    }\n",
       "\n",
       "    .dataframe tbody tr th {\n",
       "        vertical-align: top;\n",
       "    }\n",
       "\n",
       "    .dataframe thead th {\n",
       "        text-align: right;\n",
       "    }\n",
       "</style>\n",
       "<table border=\"1\" class=\"dataframe\">\n",
       "  <thead>\n",
       "    <tr style=\"text-align: right;\">\n",
       "      <th></th>\n",
       "      <th>Rank</th>\n",
       "      <th>SAT Score</th>\n",
       "      <th>Acceptance Rate</th>\n",
       "      <th>Population</th>\n",
       "      <th>Graduation Rate</th>\n",
       "    </tr>\n",
       "  </thead>\n",
       "  <tbody>\n",
       "    <tr>\n",
       "      <th>count</th>\n",
       "      <td>100.000000</td>\n",
       "      <td>99.000000</td>\n",
       "      <td>100.00000</td>\n",
       "      <td>100.000000</td>\n",
       "      <td>100.000000</td>\n",
       "    </tr>\n",
       "    <tr>\n",
       "      <th>mean</th>\n",
       "      <td>50.500000</td>\n",
       "      <td>1367.525253</td>\n",
       "      <td>0.36680</td>\n",
       "      <td>24880.730000</td>\n",
       "      <td>0.846700</td>\n",
       "    </tr>\n",
       "    <tr>\n",
       "      <th>std</th>\n",
       "      <td>29.011492</td>\n",
       "      <td>108.457115</td>\n",
       "      <td>0.21841</td>\n",
       "      <td>16724.784256</td>\n",
       "      <td>0.092791</td>\n",
       "    </tr>\n",
       "    <tr>\n",
       "      <th>min</th>\n",
       "      <td>1.000000</td>\n",
       "      <td>915.000000</td>\n",
       "      <td>0.04000</td>\n",
       "      <td>1557.000000</td>\n",
       "      <td>0.510000</td>\n",
       "    </tr>\n",
       "    <tr>\n",
       "      <th>25%</th>\n",
       "      <td>25.750000</td>\n",
       "      <td>1290.000000</td>\n",
       "      <td>0.16000</td>\n",
       "      <td>11002.000000</td>\n",
       "      <td>0.810000</td>\n",
       "    </tr>\n",
       "    <tr>\n",
       "      <th>50%</th>\n",
       "      <td>50.500000</td>\n",
       "      <td>1365.000000</td>\n",
       "      <td>0.36000</td>\n",
       "      <td>19452.000000</td>\n",
       "      <td>0.860000</td>\n",
       "    </tr>\n",
       "    <tr>\n",
       "      <th>75%</th>\n",
       "      <td>75.250000</td>\n",
       "      <td>1442.500000</td>\n",
       "      <td>0.54250</td>\n",
       "      <td>36495.750000</td>\n",
       "      <td>0.922500</td>\n",
       "    </tr>\n",
       "    <tr>\n",
       "      <th>max</th>\n",
       "      <td>100.000000</td>\n",
       "      <td>1545.000000</td>\n",
       "      <td>0.86000</td>\n",
       "      <td>68679.000000</td>\n",
       "      <td>0.980000</td>\n",
       "    </tr>\n",
       "  </tbody>\n",
       "</table>\n",
       "</div>"
      ],
      "text/plain": [
       "             Rank    SAT Score  Acceptance Rate    Population  Graduation Rate\n",
       "count  100.000000    99.000000        100.00000    100.000000       100.000000\n",
       "mean    50.500000  1367.525253          0.36680  24880.730000         0.846700\n",
       "std     29.011492   108.457115          0.21841  16724.784256         0.092791\n",
       "min      1.000000   915.000000          0.04000   1557.000000         0.510000\n",
       "25%     25.750000  1290.000000          0.16000  11002.000000         0.810000\n",
       "50%     50.500000  1365.000000          0.36000  19452.000000         0.860000\n",
       "75%     75.250000  1442.500000          0.54250  36495.750000         0.922500\n",
       "max    100.000000  1545.000000          0.86000  68679.000000         0.980000"
      ]
     },
     "execution_count": 9,
     "metadata": {},
     "output_type": "execute_result"
    }
   ],
   "source": [
    "df.describe()"
   ]
  },
  {
   "cell_type": "code",
   "execution_count": 10,
   "id": "59e25be6-713d-4152-bd95-48ef69484964",
   "metadata": {},
   "outputs": [
    {
     "name": "stdout",
     "output_type": "stream",
     "text": [
      "    Rank          College Name State Undergraduate Tuition & Fees  SAT Score   \n",
      "73    74  Gallaudet University    DC                      $17,038      915.0  \\\n",
      "\n",
      "    Acceptance Rate  Population  Graduation Rate Student to Faculty Ratio  \n",
      "73             0.61        1557             0.51                   6 to 1  \n"
     ]
    }
   ],
   "source": [
    "print(df[df['SAT Score'] == 915])"
   ]
  },
  {
   "cell_type": "code",
   "execution_count": 11,
   "id": "37837780-924f-4294-bbd8-b7c1ec04f597",
   "metadata": {},
   "outputs": [
    {
     "name": "stdout",
     "output_type": "stream",
     "text": [
      "-4.194444444444445\n"
     ]
    }
   ],
   "source": [
    "print((915-1368)/108)"
   ]
  },
  {
   "cell_type": "markdown",
   "id": "87bcc83d-d4e2-44ed-a96c-5425dcd6d52c",
   "metadata": {},
   "source": [
    "This value is an outlier. This makes sense, Gaullaudet is a deaf school, and a great deal of mainstreamed deaf students likely have not had the proper educational resources for most of their academic careers."
   ]
  },
  {
   "cell_type": "code",
   "execution_count": 12,
   "id": "a227360d-6c50-476c-b1e6-f425c9f8afe5",
   "metadata": {},
   "outputs": [],
   "source": [
    "# Change tuition to integer, remove dollar sign\n",
    "df['Undergraduate Tuition & Fees'] = df['Undergraduate Tuition & Fees'].replace(\"[$,]\", \"\", regex=True).astype(int)"
   ]
  },
  {
   "cell_type": "code",
   "execution_count": 13,
   "id": "c5e52ca2-2737-44f3-aa16-be49f4196b83",
   "metadata": {},
   "outputs": [
    {
     "data": {
      "text/plain": [
       "Rank                              int64\n",
       "College Name                     object\n",
       "State                            object\n",
       "Undergraduate Tuition & Fees      int64\n",
       "SAT Score                       float64\n",
       "Acceptance Rate                 float64\n",
       "Population                        int64\n",
       "Graduation Rate                 float64\n",
       "Student to Faculty Ratio         object\n",
       "dtype: object"
      ]
     },
     "execution_count": 13,
     "metadata": {},
     "output_type": "execute_result"
    }
   ],
   "source": [
    "df.dtypes"
   ]
  },
  {
   "cell_type": "code",
   "execution_count": 14,
   "id": "1a0579f1-f0c0-4d88-b93d-78081e27bd50",
   "metadata": {},
   "outputs": [
    {
     "data": {
      "text/html": [
       "<div>\n",
       "<style scoped>\n",
       "    .dataframe tbody tr th:only-of-type {\n",
       "        vertical-align: middle;\n",
       "    }\n",
       "\n",
       "    .dataframe tbody tr th {\n",
       "        vertical-align: top;\n",
       "    }\n",
       "\n",
       "    .dataframe thead th {\n",
       "        text-align: right;\n",
       "    }\n",
       "</style>\n",
       "<table border=\"1\" class=\"dataframe\">\n",
       "  <thead>\n",
       "    <tr style=\"text-align: right;\">\n",
       "      <th></th>\n",
       "      <th>Rank</th>\n",
       "      <th>College Name</th>\n",
       "      <th>State</th>\n",
       "      <th>Undergraduate Tuition &amp; Fees</th>\n",
       "      <th>SAT Score</th>\n",
       "      <th>Acceptance Rate</th>\n",
       "      <th>Population</th>\n",
       "      <th>Graduation Rate</th>\n",
       "      <th>Student to Faculty Ratio</th>\n",
       "    </tr>\n",
       "  </thead>\n",
       "  <tbody>\n",
       "    <tr>\n",
       "      <th>0</th>\n",
       "      <td>1</td>\n",
       "      <td>Stanford University</td>\n",
       "      <td>CA</td>\n",
       "      <td>56169</td>\n",
       "      <td>1505.0</td>\n",
       "      <td>0.04</td>\n",
       "      <td>17381</td>\n",
       "      <td>0.94</td>\n",
       "      <td>5</td>\n",
       "    </tr>\n",
       "    <tr>\n",
       "      <th>1</th>\n",
       "      <td>2</td>\n",
       "      <td>Harvard University</td>\n",
       "      <td>MA</td>\n",
       "      <td>54002</td>\n",
       "      <td>1515.0</td>\n",
       "      <td>0.05</td>\n",
       "      <td>31566</td>\n",
       "      <td>0.97</td>\n",
       "      <td>7</td>\n",
       "    </tr>\n",
       "    <tr>\n",
       "      <th>2</th>\n",
       "      <td>3</td>\n",
       "      <td>Princeton University</td>\n",
       "      <td>NJ</td>\n",
       "      <td>48502</td>\n",
       "      <td>1515.0</td>\n",
       "      <td>0.06</td>\n",
       "      <td>8374</td>\n",
       "      <td>0.98</td>\n",
       "      <td>5</td>\n",
       "    </tr>\n",
       "    <tr>\n",
       "      <th>3</th>\n",
       "      <td>4</td>\n",
       "      <td>Massachusetts Institute of Technology</td>\n",
       "      <td>MA</td>\n",
       "      <td>53450</td>\n",
       "      <td>1540.0</td>\n",
       "      <td>0.07</td>\n",
       "      <td>11574</td>\n",
       "      <td>0.95</td>\n",
       "      <td>3</td>\n",
       "    </tr>\n",
       "    <tr>\n",
       "      <th>4</th>\n",
       "      <td>5</td>\n",
       "      <td>Columbia University in the City of New York</td>\n",
       "      <td>NY</td>\n",
       "      <td>61671</td>\n",
       "      <td>1505.0</td>\n",
       "      <td>0.05</td>\n",
       "      <td>31077</td>\n",
       "      <td>0.95</td>\n",
       "      <td>6</td>\n",
       "    </tr>\n",
       "  </tbody>\n",
       "</table>\n",
       "</div>"
      ],
      "text/plain": [
       "   Rank                                 College Name State   \n",
       "0     1                          Stanford University    CA  \\\n",
       "1     2                           Harvard University    MA   \n",
       "2     3                         Princeton University    NJ   \n",
       "3     4        Massachusetts Institute of Technology    MA   \n",
       "4     5  Columbia University in the City of New York    NY   \n",
       "\n",
       "   Undergraduate Tuition & Fees  SAT Score  Acceptance Rate  Population   \n",
       "0                         56169     1505.0             0.04       17381  \\\n",
       "1                         54002     1515.0             0.05       31566   \n",
       "2                         48502     1515.0             0.06        8374   \n",
       "3                         53450     1540.0             0.07       11574   \n",
       "4                         61671     1505.0             0.05       31077   \n",
       "\n",
       "   Graduation Rate  Student to Faculty Ratio  \n",
       "0             0.94                         5  \n",
       "1             0.97                         7  \n",
       "2             0.98                         5  \n",
       "3             0.95                         3  \n",
       "4             0.95                         6  "
      ]
     },
     "execution_count": 14,
     "metadata": {},
     "output_type": "execute_result"
    }
   ],
   "source": [
    "df['Student to Faculty Ratio'] = df['Student to Faculty Ratio'].str.extract('(\\d+)').astype(int)\n",
    "df.head()"
   ]
  },
  {
   "cell_type": "code",
   "execution_count": 15,
   "id": "2faa25bb-165a-40e5-bb19-e5e7788d207d",
   "metadata": {},
   "outputs": [
    {
     "data": {
      "text/plain": [
       "Rank                              int64\n",
       "College Name                     object\n",
       "State                            object\n",
       "Undergraduate Tuition & Fees      int64\n",
       "SAT Score                       float64\n",
       "Acceptance Rate                 float64\n",
       "Population                        int64\n",
       "Graduation Rate                 float64\n",
       "Student to Faculty Ratio          int64\n",
       "dtype: object"
      ]
     },
     "execution_count": 15,
     "metadata": {},
     "output_type": "execute_result"
    }
   ],
   "source": [
    "df.dtypes"
   ]
  },
  {
   "cell_type": "code",
   "execution_count": 16,
   "id": "71c2540a-7642-4498-ae64-d599a8b9f1e7",
   "metadata": {},
   "outputs": [
    {
     "data": {
      "text/html": [
       "<div>\n",
       "<style scoped>\n",
       "    .dataframe tbody tr th:only-of-type {\n",
       "        vertical-align: middle;\n",
       "    }\n",
       "\n",
       "    .dataframe tbody tr th {\n",
       "        vertical-align: top;\n",
       "    }\n",
       "\n",
       "    .dataframe thead th {\n",
       "        text-align: right;\n",
       "    }\n",
       "</style>\n",
       "<table border=\"1\" class=\"dataframe\">\n",
       "  <thead>\n",
       "    <tr style=\"text-align: right;\">\n",
       "      <th></th>\n",
       "      <th>Undergraduate Tuition &amp; Fees</th>\n",
       "      <th>SAT Score</th>\n",
       "      <th>Acceptance Rate</th>\n",
       "      <th>Population</th>\n",
       "      <th>Graduation Rate</th>\n",
       "      <th>Student to Faculty Ratio</th>\n",
       "      <th>target</th>\n",
       "    </tr>\n",
       "  </thead>\n",
       "  <tbody>\n",
       "    <tr>\n",
       "      <th>0</th>\n",
       "      <td>56169</td>\n",
       "      <td>1505.0</td>\n",
       "      <td>0.04</td>\n",
       "      <td>17381</td>\n",
       "      <td>0.94</td>\n",
       "      <td>5</td>\n",
       "      <td>2</td>\n",
       "    </tr>\n",
       "    <tr>\n",
       "      <th>1</th>\n",
       "      <td>54002</td>\n",
       "      <td>1515.0</td>\n",
       "      <td>0.05</td>\n",
       "      <td>31566</td>\n",
       "      <td>0.97</td>\n",
       "      <td>7</td>\n",
       "      <td>13</td>\n",
       "    </tr>\n",
       "    <tr>\n",
       "      <th>2</th>\n",
       "      <td>48502</td>\n",
       "      <td>1515.0</td>\n",
       "      <td>0.06</td>\n",
       "      <td>8374</td>\n",
       "      <td>0.98</td>\n",
       "      <td>5</td>\n",
       "      <td>20</td>\n",
       "    </tr>\n",
       "    <tr>\n",
       "      <th>3</th>\n",
       "      <td>53450</td>\n",
       "      <td>1540.0</td>\n",
       "      <td>0.07</td>\n",
       "      <td>11574</td>\n",
       "      <td>0.95</td>\n",
       "      <td>3</td>\n",
       "      <td>13</td>\n",
       "    </tr>\n",
       "    <tr>\n",
       "      <th>4</th>\n",
       "      <td>61671</td>\n",
       "      <td>1505.0</td>\n",
       "      <td>0.05</td>\n",
       "      <td>31077</td>\n",
       "      <td>0.95</td>\n",
       "      <td>6</td>\n",
       "      <td>21</td>\n",
       "    </tr>\n",
       "  </tbody>\n",
       "</table>\n",
       "</div>"
      ],
      "text/plain": [
       "   Undergraduate Tuition & Fees  SAT Score  Acceptance Rate  Population   \n",
       "0                         56169     1505.0             0.04       17381  \\\n",
       "1                         54002     1515.0             0.05       31566   \n",
       "2                         48502     1515.0             0.06        8374   \n",
       "3                         53450     1540.0             0.07       11574   \n",
       "4                         61671     1505.0             0.05       31077   \n",
       "\n",
       "   Graduation Rate  Student to Faculty Ratio  target  \n",
       "0             0.94                         5       2  \n",
       "1             0.97                         7      13  \n",
       "2             0.98                         5      20  \n",
       "3             0.95                         3      13  \n",
       "4             0.95                         6      21  "
      ]
     },
     "execution_count": 16,
     "metadata": {},
     "output_type": "execute_result"
    }
   ],
   "source": [
    "df = df.drop(columns = ['College Name', 'Rank'])\n",
    "le = LabelEncoder()\n",
    "df['target'] = le.fit_transform(df['State'])\n",
    "df = df.drop(columns = ['State'])\n",
    "df.head()"
   ]
  },
  {
   "cell_type": "code",
   "execution_count": 17,
   "id": "a43169b0-9633-4f9b-9246-65ba4b5529e1",
   "metadata": {},
   "outputs": [
    {
     "data": {
      "text/plain": [
       "Undergraduate Tuition & Fees    0\n",
       "SAT Score                       1\n",
       "Acceptance Rate                 0\n",
       "Population                      0\n",
       "Graduation Rate                 0\n",
       "Student to Faculty Ratio        0\n",
       "target                          0\n",
       "dtype: int64"
      ]
     },
     "execution_count": 17,
     "metadata": {},
     "output_type": "execute_result"
    }
   ],
   "source": [
    "df.isna().sum()"
   ]
  },
  {
   "cell_type": "code",
   "execution_count": 18,
   "id": "85b20b20-d83c-4391-8193-6c155ad00aa9",
   "metadata": {},
   "outputs": [],
   "source": [
    "df = df.dropna()"
   ]
  },
  {
   "cell_type": "code",
   "execution_count": 19,
   "id": "7792f18c-735c-463d-abce-b6e36155dd2e",
   "metadata": {},
   "outputs": [
    {
     "name": "stdout",
     "output_type": "stream",
     "text": [
      "[' AR' ' AZ' ' CA' ' CO' ' CT' ' DC' ' DE' ' FL' ' GA' ' HI' ' IL' ' IN'\n",
      " ' LA' ' MA' ' MD' ' MI' ' MN' ' MO' ' NC' ' NH' ' NJ' ' NY' ' OH' ' OK'\n",
      " ' PA' ' RI' ' TN' ' TX' ' UT' ' VA' ' WA' ' WI']\n"
     ]
    }
   ],
   "source": [
    "print(le.classes_)"
   ]
  },
  {
   "cell_type": "code",
   "execution_count": 20,
   "id": "4d443766-171b-4733-9332-0564e53da71c",
   "metadata": {},
   "outputs": [
    {
     "data": {
      "image/png": "[encoded data removed]",
      "text/plain": [
       "<Figure size 1440x1080 with 9 Axes>"
      ]
     },
     "metadata": {
      "needs_background": "light"
     },
     "output_type": "display_data"
    }
   ],
   "source": [
    "df.hist(figsize = (20,15))\n",
    "plt.show()"
   ]
  },
  {
   "cell_type": "code",
   "execution_count": 21,
   "id": "1cf8a739-6476-43d5-bbb0-f7dc01e4096b",
   "metadata": {},
   "outputs": [],
   "source": [
    "def heatmap(data, row_labels, col_labels, figsize = (20,12), cmap = \"YlGn\",\n",
    "            cbar_kw={}, cbarlabel=\"\", valfmt=\"{x:.2f}\",\n",
    "            textcolors=(\"black\", \"white\"), threshold=None):\n",
    "    \"\"\"\n",
    "    Create a heatmap from a numpy array and two lists of labels. \n",
    "    \n",
    "    Taken from matplotlib example.\n",
    "\n",
    "    Parameters\n",
    "    ----------\n",
    "    data\n",
    "        A 2D numpy array of shape (M, N).\n",
    "    row_labels\n",
    "        A list or array of length M with the labels for the rows.\n",
    "    col_labels\n",
    "        A list or array of length N with the labels for the columns.\n",
    "    ax\n",
    "        A `matplotlib.axes.Axes` instance to which the heatmap is plotted.  If\n",
    "        not provided, use current axes or create a new one.  Optional.\n",
    "    cmap\n",
    "        A string that specifies the colormap to use. Look at matplotlib docs for information.\n",
    "        Optional.\n",
    "    cbar_kw\n",
    "        A dictionary with arguments to `matplotlib.Figure.colorbar`.  Optional.\n",
    "    cbarlabel\n",
    "        The label for the colorbar.  Optional.\n",
    "    valfmt\n",
    "        The format of the annotations inside the heatmap.  This should either\n",
    "        use the string format method, e.g. \"$ {x:.2f}\", or be a\n",
    "        `matplotlib.ticker.Formatter`.  Optional.\n",
    "    textcolors\n",
    "        A pair of colors.  The first is used for values below a threshold,\n",
    "        the second for those above.  Optional.\n",
    "    threshold\n",
    "        Value in data units according to which the colors from textcolors are\n",
    "        applied.  If None (the default) uses the middle of the colormap as\n",
    "    \"\"\"\n",
    "\n",
    "    plt.figure(figsize = figsize)\n",
    "    ax = plt.gca()\n",
    "\n",
    "    # Plot the heatmap\n",
    "    im = ax.imshow(data,cmap=cmap)\n",
    "\n",
    "    # Create colorbar\n",
    "    cbar = ax.figure.colorbar(im, ax=ax, **cbar_kw)\n",
    "    cbar.ax.set_ylabel(cbarlabel, rotation=-90, va=\"bottom\")\n",
    "\n",
    "    # Show all ticks and label them with the respective list entries.\n",
    "    ax.set_xticks(np.arange(data.shape[1]), labels=col_labels)\n",
    "    ax.set_yticks(np.arange(data.shape[0]), labels=row_labels)\n",
    "\n",
    "    # Let the horizontal axes labeling appear on top.\n",
    "    ax.tick_params(top=True, bottom=False,\n",
    "                   labeltop=True, labelbottom=False)\n",
    "\n",
    "    # Rotate the tick labels and set their alignment.\n",
    "    plt.setp(ax.get_xticklabels(), rotation=-30, ha=\"right\",\n",
    "             rotation_mode=\"anchor\")\n",
    "\n",
    "    # Turn spines off and create white grid.\n",
    "    ax.spines[:].set_visible(False)\n",
    "\n",
    "    ax.set_xticks(np.arange(data.shape[1]+1)-.5, minor=True)\n",
    "    ax.set_yticks(np.arange(data.shape[0]+1)-.5, minor=True)\n",
    "    ax.grid(which=\"minor\", color=\"w\", linestyle='-', linewidth=3)\n",
    "    ax.tick_params(which=\"minor\", bottom=False, left=False)\n",
    "\n",
    "    \n",
    "    # Normalize the threshold to the images color range.\n",
    "    if threshold is not None:\n",
    "        threshold = im.norm(threshold)\n",
    "    else:\n",
    "        threshold = im.norm(data.max())/2.\n",
    "\n",
    "    # Set default alignment to center, but allow it to be\n",
    "    # overwritten by textkw.\n",
    "    kw = dict(horizontalalignment=\"center\",\n",
    "              verticalalignment=\"center\")\n",
    "\n",
    "    # Get the formatter in case a string is supplied\n",
    "    if isinstance(valfmt, str):\n",
    "        valfmt = matplotlib.ticker.StrMethodFormatter(valfmt)\n",
    "\n",
    "    # Loop over the data and create a `Text` for each \"pixel\".\n",
    "    # Change the text's color depending on the data.\n",
    "    texts = []\n",
    "    for i in range(data.shape[0]):\n",
    "        for j in range(data.shape[1]):\n",
    "            kw.update(color=textcolors[int(im.norm(data[i, j]) > threshold)])\n",
    "            text = im.axes.text(j, i, valfmt(data[i, j], None), **kw)\n",
    "            texts.append(text)"
   ]
  },
  {
   "cell_type": "code",
   "execution_count": 22,
   "id": "eaca8d6e-bd57-4daf-aa73-326dd9cdd047",
   "metadata": {},
   "outputs": [
    {
     "data": {
      "image/png": "[encoded data removed]",
      "text/plain": [
       "<Figure size 1440x864 with 2 Axes>"
      ]
     },
     "metadata": {
      "needs_background": "light"
     },
     "output_type": "display_data"
    }
   ],
   "source": [
    "correlations = df.corr()\n",
    "columns = list(df)\n",
    "#Creates the heatmap\n",
    "heatmap(correlations.values,columns,columns,figsize = (20,12),cmap=\"hsv\")"
   ]
  },
  {
   "cell_type": "code",
   "execution_count": 23,
   "id": "8a028436-a3e9-43a6-b85b-806b322c0bd5",
   "metadata": {},
   "outputs": [
    {
     "data": {
      "text/plain": [
       "target                          1.000000\n",
       "SAT Score                       0.161781\n",
       "Graduation Rate                 0.117896\n",
       "Acceptance Rate                 0.067889\n",
       "Undergraduate Tuition & Fees    0.054531\n",
       "Population                      0.014164\n",
       "Student to Faculty Ratio       -0.131328\n",
       "Name: target, dtype: float64"
      ]
     },
     "execution_count": 23,
     "metadata": {},
     "output_type": "execute_result"
    }
   ],
   "source": [
    "correlations[\"target\"].sort_values(ascending=False)"
   ]
  },
  {
   "cell_type": "code",
   "execution_count": 24,
   "id": "8a491e89-6ca1-4bae-a8bc-aa8d4bc4540e",
   "metadata": {},
   "outputs": [],
   "source": [
    "y = df[\"target\"]\n",
    "x = df.drop([\"target\"],axis = 1)"
   ]
  },
  {
   "cell_type": "code",
   "execution_count": 25,
   "id": "4908d379-c78f-46e8-bd35-18748987aac0",
   "metadata": {},
   "outputs": [],
   "source": [
    "# Identify classes with less than two instances\n",
    "unique_classes, class_counts = np.unique(y, return_counts=True)\n",
    "classes_with_one_instance = unique_classes[class_counts < 2]\n",
    "\n",
    "# Filter the data to exclude classes with one instance\n",
    "mask = np.isin(y, classes_with_one_instance, invert=True)\n",
    "x_filtered = x[mask]\n",
    "y_filtered = y[mask]\n",
    "\n",
    "# Split the filtered data\n",
    "train_raw, test_raw, target, target_test = train_test_split(x_filtered, y_filtered, test_size=0.3, stratify=y_filtered, random_state=0)"
   ]
  },
  {
   "cell_type": "code",
   "execution_count": 26,
   "id": "4f8fa74a-d2ab-450d-a2b2-13c61299aebc",
   "metadata": {},
   "outputs": [
    {
     "name": "stdout",
     "output_type": "stream",
     "text": [
      "Training shape: (60, 6)\n",
      "Testing shape: (27, 6)\n"
     ]
    }
   ],
   "source": [
    "print(\"Training shape:\", train_raw.shape)\n",
    "print(\"Testing shape:\", test_raw.shape)"
   ]
  },
  {
   "cell_type": "code",
   "execution_count": 27,
   "id": "77f234e7-ae6f-4c23-836b-7370e0b8957a",
   "metadata": {},
   "outputs": [
    {
     "name": "stdout",
     "output_type": "stream",
     "text": [
      "Accuracy:  0.14814814814814814\n"
     ]
    }
   ],
   "source": [
    "# k-Nearest Neighbors algorithm\n",
    "knn = KNeighborsClassifier()\n",
    "knn.fit(train_raw, target)\n",
    "predicted = knn.predict(test_raw)\n",
    "print(\"Accuracy: \", accuracy_score(target_test, predicted))"
   ]
  },
  {
   "cell_type": "code",
   "execution_count": 28,
   "id": "1fc74703-00d0-441d-ab0b-8f8d1e2887f6",
   "metadata": {},
   "outputs": [],
   "source": [
    "num = ['Undergraduate Tuition & Fees', 'SAT Score', 'Acceptance Rate', 'Population', 'Graduation Rate', 'Student to Faculty Ratio']\n",
    "preprocessor = ColumnTransformer([\n",
    "    ('num', StandardScaler(), num)])\n",
    "\n",
    "pipeline = Pipeline([('preprocessor', preprocessor), ('knn', KNeighborsClassifier(n_neighbors=3))])"
   ]
  },
  {
   "cell_type": "code",
   "execution_count": 29,
   "id": "e0273211-2710-47f6-949e-e2d057e967fe",
   "metadata": {},
   "outputs": [
    {
     "name": "stdout",
     "output_type": "stream",
     "text": [
      "Accuracy: 0.14814814814814814\n"
     ]
    }
   ],
   "source": [
    "train = pipeline['preprocessor'].fit_transform(train_raw)\n",
    "test = pipeline['preprocessor'].transform(test_raw)\n",
    "\n",
    "pipeline['knn'].fit(train, target)\n",
    "\n",
    "predicted = pipeline['knn'].predict(test)\n",
    "\n",
    "accuracy = accuracy_score(target_test, predicted)\n",
    "\n",
    "print(\"Accuracy:\", accuracy)"
   ]
  },
  {
   "cell_type": "code",
   "execution_count": 30,
   "id": "bda4bfe1-aa1e-4b3e-a384-8ad9da7c4d00",
   "metadata": {},
   "outputs": [
    {
     "name": "stdout",
     "output_type": "stream",
     "text": [
      "n_neighbors = 1: Accuracy = 0.18518518518518517\n",
      "n_neighbors = 2: Accuracy = 0.14814814814814814\n",
      "n_neighbors = 3: Accuracy = 0.14814814814814814\n",
      "n_neighbors = 5: Accuracy = 0.18518518518518517\n",
      "n_neighbors = 7: Accuracy = 0.14814814814814814\n",
      "n_neighbors = 9: Accuracy = 0.14814814814814814\n",
      "n_neighbors = 10: Accuracy = 0.1111111111111111\n",
      "n_neighbors = 20: Accuracy = 0.14814814814814814\n",
      "n_neighbors = 50: Accuracy = 0.18518518518518517\n"
     ]
    }
   ],
   "source": [
    "n_values = [1, 2, 3, 5, 7, 9, 10, 20, 50]\n",
    "accuracies = []\n",
    "\n",
    "for n in n_values:\n",
    "    knn = KNeighborsClassifier(n_neighbors=n)\n",
    "    knn.fit(train, target)\n",
    "    \n",
    "    predicted = knn.predict(test)\n",
    "    \n",
    "    accuracy = accuracy_score(target_test, predicted)\n",
    "    accuracies.append(accuracy)\n",
    "\n",
    "for n, accuracy in zip(n_values, accuracies):\n",
    "    print(f\"n_neighbors = {n}: Accuracy = {accuracy}\")"
   ]
  },
  {
   "cell_type": "code",
   "execution_count": 31,
   "id": "46b9c7a5-de48-40b0-a98f-edf6f095380e",
   "metadata": {},
   "outputs": [
    {
     "name": "stdout",
     "output_type": "stream",
     "text": [
      "Test Accuracy: 0.2222222222222222\n"
     ]
    }
   ],
   "source": [
    "logreg = LogisticRegression()\n",
    "logreg.fit(train, target)\n",
    "\n",
    "predicted = logreg.predict(test)\n",
    "\n",
    "accuracy = accuracy_score(target_test, predicted)\n",
    "print(\"Test Accuracy:\", accuracy)"
   ]
  },
  {
   "cell_type": "code",
   "execution_count": 32,
   "id": "26f034c1-37ed-4aa8-a2f0-340d26c03de0",
   "metadata": {},
   "outputs": [
    {
     "name": "stdout",
     "output_type": "stream",
     "text": [
      "Test Accuracy: 0.2222222222222222\n"
     ]
    }
   ],
   "source": [
    "logreg = LogisticRegression(solver= 'liblinear', max_iter= 1000, penalty = 'l2', C=1)\n",
    "logreg.fit(train, target)\n",
    "\n",
    "predicted = logreg.predict(test)\n",
    "\n",
    "accuracy = accuracy_score(target_test, predicted)\n",
    "print(\"Test Accuracy:\", accuracy)"
   ]
  },
  {
   "cell_type": "code",
   "execution_count": 33,
   "id": "44799ab6-dd12-47a7-b861-b3938cdfff0e",
   "metadata": {},
   "outputs": [
    {
     "name": "stdout",
     "output_type": "stream",
     "text": [
      "Test Accuracy: 0.07407407407407407\n"
     ]
    }
   ],
   "source": [
    "logreg = LogisticRegression(solver= 'liblinear', max_iter= 1000, penalty = 'l2', C=0.0001)\n",
    "logreg.fit(train, target)\n",
    "\n",
    "predicted = logreg.predict(test)\n",
    "\n",
    "accuracy = accuracy_score(target_test, predicted)\n",
    "print(\"Test Accuracy:\", accuracy)"
   ]
  },
  {
   "cell_type": "code",
   "execution_count": 34,
   "id": "3cef2f52-77e7-450c-8464-c032293904c7",
   "metadata": {},
   "outputs": [
    {
     "name": "stdout",
     "output_type": "stream",
     "text": [
      "Test Accuracy: 0.18518518518518517\n"
     ]
    }
   ],
   "source": [
    "logreg = LogisticRegression(solver= 'liblinear', max_iter= 1000, penalty = 'l1', C=0.0001)\n",
    "logreg.fit(train, target)\n",
    "\n",
    "predicted = logreg.predict(test)\n",
    "\n",
    "accuracy = accuracy_score(target_test, predicted)\n",
    "print(\"Test Accuracy:\", accuracy)"
   ]
  },
  {
   "cell_type": "code",
   "execution_count": 38,
   "id": "faf06124-ec89-4720-980b-1e4feb57597f",
   "metadata": {},
   "outputs": [
    {
     "name": "stdout",
     "output_type": "stream",
     "text": [
      "Accuracy:    0.148148\n",
      "Number of support vectors: [10  1  1  3  4  2  3  2  6  1  1  1  2  2  6  2  4  1  5  2]\n"
     ]
    }
   ],
   "source": [
    "svm = SVC()\n",
    "svm.fit(train, target)\n",
    "predicted = svm.predict(test)\n",
    "print(\"%-12s %f\" % ('Accuracy:', metrics.accuracy_score(target_test,predicted)))\n",
    "print(\"Number of support vectors:\", svm.n_support_)"
   ]
  },
  {
   "cell_type": "code",
   "execution_count": 37,
   "id": "d7d4564a-47e1-4134-ad99-cd06f9210fda",
   "metadata": {},
   "outputs": [
    {
     "name": "stdout",
     "output_type": "stream",
     "text": [
      "Accuracy:    0.185185\n",
      "Number of support vectors: [11  1  1  3  4  2  3  2  6  1  1  1  2  2  6  2  4  1  5  2]\n"
     ]
    }
   ],
   "source": [
    "svm = SVC(kernel = 'linear')\n",
    "svm.fit(train, target)\n",
    "predicted = svm.predict(test)\n",
    "print(\"%-12s %f\" % ('Accuracy:', metrics.accuracy_score(target_test,predicted)))\n",
    "print(\"Number of support vectors:\", svm.n_support_)"
   ]
  },
  {
   "cell_type": "code",
   "execution_count": 39,
   "id": "977211a0-be2c-41e8-8793-8978bcad9e61",
   "metadata": {},
   "outputs": [
    {
     "name": "stdout",
     "output_type": "stream",
     "text": [
      "Accuracy:    0.185185\n"
     ]
    }
   ],
   "source": [
    "clf = DecisionTreeClassifier(criterion=\"gini\", random_state = 0)\n",
    "clf.fit(train, target)\n",
    "predicted = clf.predict(test)\n",
    "\n",
    "print(\"%-12s %f\" % ('Accuracy:', metrics.accuracy_score(target_test,predicted)))"
   ]
  },
  {
   "cell_type": "code",
   "execution_count": 40,
   "id": "aa4ae0ce-601a-4640-85c5-48c769b57274",
   "metadata": {},
   "outputs": [
    {
     "name": "stdout",
     "output_type": "stream",
     "text": [
      "Train Accuracy: 0.18518518518518517\n"
     ]
    }
   ],
   "source": [
    "mlp_classifier = MLPClassifier(hidden_layer_sizes=(100, 100), max_iter=800, random_state=0)\n",
    "mlp_classifier.fit(train, target)\n",
    "y_train_pred = mlp_classifier.predict(test)\n",
    "train_accuracy = accuracy_score(target_test, y_train_pred)\n",
    "print(\"Train Accuracy:\", train_accuracy)"
   ]
  }
 ],
 "metadata": {
  "kernelspec": {
   "display_name": "Python 3 (ipykernel)",
   "language": "python",
   "name": "python3"
  },
  "language_info": {
   "codemirror_mode": {
    "name": "ipython",
    "version": 3
   },
   "file_extension": ".py",
   "mimetype": "text/x-python",
   "name": "python",
   "nbconvert_exporter": "python",
   "pygments_lexer": "ipython3",
   "version": "3.9.7"
  }
 },
 "nbformat": 4,
 "nbformat_minor": 5
}
