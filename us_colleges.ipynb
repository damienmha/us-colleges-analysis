{
 "cells": [
  {
   "cell_type": "markdown",
   "id": "750612ac-c9b9-426f-be51-c1c1ec7f347b",
   "metadata": {},
   "source": [
    "# US College Analysis"
   ]
  },
  {
   "cell_type": "markdown",
   "id": "46b12118-a4b4-4a83-8566-040110265817",
   "metadata": {},
   "source": [
    "## by Damien Ha"
   ]
  },
  {
   "cell_type": "markdown",
   "id": "db365e41-e2d2-42e8-b080-53d7e5685089",
   "metadata": {},
   "source": [
    "I will be doing a brief analysis on data from the Top 100 US Colleges. I obtained this dataset in summer 2021 from UCLA's Stats 20 CCLE course page."
   ]
  },
  {
   "cell_type": "code",
   "execution_count": 1,
   "id": "f52d7bc1-a7c3-41e1-890d-181db993b3b8",
   "metadata": {},
   "outputs": [],
   "source": [
    "import pandas as pd\n",
    "import numpy as np\n",
    "import matplotlib.pyplot as plt\n",
    "import seaborn as sns"
   ]
  },
  {
   "cell_type": "markdown",
   "id": "035ed40f-9eb3-4066-82c4-3e699e81dde1",
   "metadata": {},
   "source": [
    "Let's first take a look at what the first and last values of the data look like"
   ]
  },
  {
   "cell_type": "code",
   "execution_count": 2,
   "id": "a0c21da7-0adc-493d-b5e4-fab69d3bb99d",
   "metadata": {},
   "outputs": [
    {
     "data": {
      "text/html": [
       "<div>\n",
       "<style scoped>\n",
       "    .dataframe tbody tr th:only-of-type {\n",
       "        vertical-align: middle;\n",
       "    }\n",
       "\n",
       "    .dataframe tbody tr th {\n",
       "        vertical-align: top;\n",
       "    }\n",
       "\n",
       "    .dataframe thead th {\n",
       "        text-align: right;\n",
       "    }\n",
       "</style>\n",
       "<table border=\"1\" class=\"dataframe\">\n",
       "  <thead>\n",
       "    <tr style=\"text-align: right;\">\n",
       "      <th></th>\n",
       "      <th>Rank</th>\n",
       "      <th>College Name</th>\n",
       "      <th>State</th>\n",
       "      <th>Undergraduate Tuition &amp; Fees</th>\n",
       "      <th>SAT Score</th>\n",
       "      <th>Acceptance Rate</th>\n",
       "      <th>Population</th>\n",
       "      <th>Graduation Rate</th>\n",
       "      <th>Student to Faculty Ratio</th>\n",
       "    </tr>\n",
       "  </thead>\n",
       "  <tbody>\n",
       "    <tr>\n",
       "      <th>0</th>\n",
       "      <td>1</td>\n",
       "      <td>Stanford University</td>\n",
       "      <td>CA</td>\n",
       "      <td>$56,169</td>\n",
       "      <td>1505</td>\n",
       "      <td>0.04</td>\n",
       "      <td>17381</td>\n",
       "      <td>0.94</td>\n",
       "      <td>5 to 1</td>\n",
       "    </tr>\n",
       "    <tr>\n",
       "      <th>1</th>\n",
       "      <td>2</td>\n",
       "      <td>Harvard University</td>\n",
       "      <td>MA</td>\n",
       "      <td>$54,002</td>\n",
       "      <td>1515</td>\n",
       "      <td>0.05</td>\n",
       "      <td>31566</td>\n",
       "      <td>0.97</td>\n",
       "      <td>7 to 1</td>\n",
       "    </tr>\n",
       "    <tr>\n",
       "      <th>2</th>\n",
       "      <td>3</td>\n",
       "      <td>Princeton University</td>\n",
       "      <td>NJ</td>\n",
       "      <td>$48,502</td>\n",
       "      <td>1515</td>\n",
       "      <td>0.06</td>\n",
       "      <td>8374</td>\n",
       "      <td>0.98</td>\n",
       "      <td>5 to 1</td>\n",
       "    </tr>\n",
       "    <tr>\n",
       "      <th>3</th>\n",
       "      <td>4</td>\n",
       "      <td>Massachusetts Institute of Technology</td>\n",
       "      <td>MA</td>\n",
       "      <td>$53,450</td>\n",
       "      <td>1540</td>\n",
       "      <td>0.07</td>\n",
       "      <td>11574</td>\n",
       "      <td>0.95</td>\n",
       "      <td>3 to 1</td>\n",
       "    </tr>\n",
       "    <tr>\n",
       "      <th>4</th>\n",
       "      <td>5</td>\n",
       "      <td>Columbia University in the City of New York</td>\n",
       "      <td>NY</td>\n",
       "      <td>$61,671</td>\n",
       "      <td>1505</td>\n",
       "      <td>0.05</td>\n",
       "      <td>31077</td>\n",
       "      <td>0.95</td>\n",
       "      <td>6 to 1</td>\n",
       "    </tr>\n",
       "  </tbody>\n",
       "</table>\n",
       "</div>"
      ],
      "text/plain": [
       "   Rank                                 College Name State  \\\n",
       "0     1                          Stanford University    CA   \n",
       "1     2                           Harvard University    MA   \n",
       "2     3                         Princeton University    NJ   \n",
       "3     4        Massachusetts Institute of Technology    MA   \n",
       "4     5  Columbia University in the City of New York    NY   \n",
       "\n",
       "  Undergraduate Tuition & Fees SAT Score  Acceptance Rate  Population  \\\n",
       "0                      $56,169      1505             0.04       17381   \n",
       "1                      $54,002      1515             0.05       31566   \n",
       "2                      $48,502      1515             0.06        8374   \n",
       "3                      $53,450      1540             0.07       11574   \n",
       "4                      $61,671      1505             0.05       31077   \n",
       "\n",
       "   Graduation Rate Student to Faculty Ratio  \n",
       "0             0.94                   5 to 1  \n",
       "1             0.97                   7 to 1  \n",
       "2             0.98                   5 to 1  \n",
       "3             0.95                   3 to 1  \n",
       "4             0.95                   6 to 1  "
      ]
     },
     "execution_count": 2,
     "metadata": {},
     "output_type": "execute_result"
    }
   ],
   "source": [
    "df = pd.read_excel(\"Top100_US_colleges.xlsx\")\n",
    "df.head()"
   ]
  },
  {
   "cell_type": "code",
   "execution_count": 3,
   "id": "b9a6f19c-252d-4526-80f9-b74f272068e4",
   "metadata": {},
   "outputs": [
    {
     "data": {
      "text/html": [
       "<div>\n",
       "<style scoped>\n",
       "    .dataframe tbody tr th:only-of-type {\n",
       "        vertical-align: middle;\n",
       "    }\n",
       "\n",
       "    .dataframe tbody tr th {\n",
       "        vertical-align: top;\n",
       "    }\n",
       "\n",
       "    .dataframe thead th {\n",
       "        text-align: right;\n",
       "    }\n",
       "</style>\n",
       "<table border=\"1\" class=\"dataframe\">\n",
       "  <thead>\n",
       "    <tr style=\"text-align: right;\">\n",
       "      <th></th>\n",
       "      <th>Rank</th>\n",
       "      <th>College Name</th>\n",
       "      <th>State</th>\n",
       "      <th>Undergraduate Tuition &amp; Fees</th>\n",
       "      <th>SAT Score</th>\n",
       "      <th>Acceptance Rate</th>\n",
       "      <th>Population</th>\n",
       "      <th>Graduation Rate</th>\n",
       "      <th>Student to Faculty Ratio</th>\n",
       "    </tr>\n",
       "  </thead>\n",
       "  <tbody>\n",
       "    <tr>\n",
       "      <th>95</th>\n",
       "      <td>96</td>\n",
       "      <td>University of Hawaii at Manoa</td>\n",
       "      <td>HI</td>\n",
       "      <td>$34,218</td>\n",
       "      <td>1170</td>\n",
       "      <td>0.58</td>\n",
       "      <td>17710</td>\n",
       "      <td>0.61</td>\n",
       "      <td>12 to 1</td>\n",
       "    </tr>\n",
       "    <tr>\n",
       "      <th>96</th>\n",
       "      <td>97</td>\n",
       "      <td>San Diego State University</td>\n",
       "      <td>CA</td>\n",
       "      <td>$19,600</td>\n",
       "      <td>1215</td>\n",
       "      <td>0.34</td>\n",
       "      <td>35303</td>\n",
       "      <td>0.73</td>\n",
       "      <td>27 to 1</td>\n",
       "    </tr>\n",
       "    <tr>\n",
       "      <th>97</th>\n",
       "      <td>98</td>\n",
       "      <td>Florida International University</td>\n",
       "      <td>FL</td>\n",
       "      <td>$18,963</td>\n",
       "      <td>1195</td>\n",
       "      <td>0.58</td>\n",
       "      <td>57942</td>\n",
       "      <td>0.63</td>\n",
       "      <td>26 to 1</td>\n",
       "    </tr>\n",
       "    <tr>\n",
       "      <th>98</th>\n",
       "      <td>99</td>\n",
       "      <td>University of Denver</td>\n",
       "      <td>CO</td>\n",
       "      <td>$53,775</td>\n",
       "      <td>1260</td>\n",
       "      <td>0.59</td>\n",
       "      <td>11952</td>\n",
       "      <td>0.77</td>\n",
       "      <td>12 to 1</td>\n",
       "    </tr>\n",
       "    <tr>\n",
       "      <th>99</th>\n",
       "      <td>100</td>\n",
       "      <td>Harding University</td>\n",
       "      <td>AR</td>\n",
       "      <td>$21,540</td>\n",
       "      <td>1165</td>\n",
       "      <td>0.61</td>\n",
       "      <td>5121</td>\n",
       "      <td>0.69</td>\n",
       "      <td>16 to 1</td>\n",
       "    </tr>\n",
       "  </tbody>\n",
       "</table>\n",
       "</div>"
      ],
      "text/plain": [
       "    Rank                      College Name State Undergraduate Tuition & Fees  \\\n",
       "95    96     University of Hawaii at Manoa    HI                      $34,218   \n",
       "96    97        San Diego State University    CA                      $19,600   \n",
       "97    98  Florida International University    FL                      $18,963   \n",
       "98    99              University of Denver    CO                      $53,775   \n",
       "99   100                Harding University    AR                      $21,540   \n",
       "\n",
       "   SAT Score  Acceptance Rate  Population  Graduation Rate  \\\n",
       "95      1170             0.58       17710             0.61   \n",
       "96      1215             0.34       35303             0.73   \n",
       "97      1195             0.58       57942             0.63   \n",
       "98      1260             0.59       11952             0.77   \n",
       "99      1165             0.61        5121             0.69   \n",
       "\n",
       "   Student to Faculty Ratio  \n",
       "95                  12 to 1  \n",
       "96                  27 to 1  \n",
       "97                  26 to 1  \n",
       "98                  12 to 1  \n",
       "99                  16 to 1  "
      ]
     },
     "execution_count": 3,
     "metadata": {},
     "output_type": "execute_result"
    }
   ],
   "source": [
    "df.tail()"
   ]
  },
  {
   "cell_type": "markdown",
   "id": "c3f80aa4-85b5-4bd1-b959-c229689ef54e",
   "metadata": {},
   "source": [
    "Let's look at some basic features of the data"
   ]
  },
  {
   "cell_type": "code",
   "execution_count": 4,
   "id": "2731b6cf-eeb8-4990-9ffa-c6dee530c844",
   "metadata": {},
   "outputs": [
    {
     "name": "stdout",
     "output_type": "stream",
     "text": [
      "(100, 9)\n"
     ]
    }
   ],
   "source": [
    "# Check shape\n",
    "print(df.shape)"
   ]
  },
  {
   "cell_type": "code",
   "execution_count": 5,
   "id": "fe12ba3e-4216-40ad-8be1-e2a1dd43385b",
   "metadata": {},
   "outputs": [
    {
     "data": {
      "text/plain": [
       "Rank                            0\n",
       "College Name                    0\n",
       "State                           0\n",
       "Undergraduate Tuition & Fees    0\n",
       "SAT Score                       0\n",
       "Acceptance Rate                 0\n",
       "Population                      0\n",
       "Graduation Rate                 0\n",
       "Student to Faculty Ratio        0\n",
       "dtype: int64"
      ]
     },
     "execution_count": 5,
     "metadata": {},
     "output_type": "execute_result"
    }
   ],
   "source": [
    "# Check for NaN values\n",
    "df.isna().sum()"
   ]
  },
  {
   "cell_type": "code",
   "execution_count": 6,
   "id": "e46883c1-5dab-4ecf-8bc5-98299d9ee989",
   "metadata": {},
   "outputs": [
    {
     "data": {
      "text/plain": [
       "Rank                              int64\n",
       "College Name                     object\n",
       "State                            object\n",
       "Undergraduate Tuition & Fees     object\n",
       "SAT Score                        object\n",
       "Acceptance Rate                 float64\n",
       "Population                        int64\n",
       "Graduation Rate                 float64\n",
       "Student to Faculty Ratio         object\n",
       "dtype: object"
      ]
     },
     "execution_count": 6,
     "metadata": {},
     "output_type": "execute_result"
    }
   ],
   "source": [
    "# Check data types\n",
    "df.dtypes"
   ]
  },
  {
   "cell_type": "markdown",
   "id": "ff93c5b6-29b6-415e-bbcb-86505a6f6c8a",
   "metadata": {},
   "source": [
    "I wanted SAT score to be an integer. When trying to turn SAT Score into an integer, I discovered the value below, and converted it to NaN."
   ]
  },
  {
   "cell_type": "code",
   "execution_count": 7,
   "id": "8da2219a-4fb8-4e3c-aa6e-79c8d635d0a3",
   "metadata": {},
   "outputs": [
    {
     "data": {
      "text/html": [
       "<div>\n",
       "<style scoped>\n",
       "    .dataframe tbody tr th:only-of-type {\n",
       "        vertical-align: middle;\n",
       "    }\n",
       "\n",
       "    .dataframe tbody tr th {\n",
       "        vertical-align: top;\n",
       "    }\n",
       "\n",
       "    .dataframe thead th {\n",
       "        text-align: right;\n",
       "    }\n",
       "</style>\n",
       "<table border=\"1\" class=\"dataframe\">\n",
       "  <thead>\n",
       "    <tr style=\"text-align: right;\">\n",
       "      <th></th>\n",
       "      <th>Rank</th>\n",
       "      <th>College Name</th>\n",
       "      <th>State</th>\n",
       "      <th>Undergraduate Tuition &amp; Fees</th>\n",
       "      <th>SAT Score</th>\n",
       "      <th>Acceptance Rate</th>\n",
       "      <th>Population</th>\n",
       "      <th>Graduation Rate</th>\n",
       "      <th>Student to Faculty Ratio</th>\n",
       "    </tr>\n",
       "  </thead>\n",
       "  <tbody>\n",
       "    <tr>\n",
       "      <th>79</th>\n",
       "      <td>80</td>\n",
       "      <td>Wake Forest University</td>\n",
       "      <td>NC</td>\n",
       "      <td>$57,760</td>\n",
       "      <td>-</td>\n",
       "      <td>0.3</td>\n",
       "      <td>8401</td>\n",
       "      <td>0.88</td>\n",
       "      <td>10 to 1</td>\n",
       "    </tr>\n",
       "  </tbody>\n",
       "</table>\n",
       "</div>"
      ],
      "text/plain": [
       "    Rank            College Name State Undergraduate Tuition & Fees SAT Score  \\\n",
       "79    80  Wake Forest University    NC                      $57,760         -   \n",
       "\n",
       "    Acceptance Rate  Population  Graduation Rate Student to Faculty Ratio  \n",
       "79              0.3        8401             0.88                  10 to 1  "
      ]
     },
     "execution_count": 7,
     "metadata": {},
     "output_type": "execute_result"
    }
   ],
   "source": [
    "df.loc[df['SAT Score'] == '-']"
   ]
  },
  {
   "cell_type": "code",
   "execution_count": 8,
   "id": "99be19c5-d2b7-491a-98e6-7fd39cef0dda",
   "metadata": {},
   "outputs": [],
   "source": [
    "df['SAT Score'].replace({'-': np.nan}, inplace=True)"
   ]
  },
  {
   "cell_type": "code",
   "execution_count": 9,
   "id": "197b1c40-0a04-40ec-89b9-c8fc322814b3",
   "metadata": {},
   "outputs": [],
   "source": [
    "df['Undergraduate Tuition & Fees'] = df['Undergraduate Tuition & Fees'].replace(\"[$,]\", \"\", regex=True).astype(int)"
   ]
  },
  {
   "cell_type": "code",
   "execution_count": 10,
   "id": "9dd9afaf-d94f-422b-a042-ad5f38bc17ad",
   "metadata": {},
   "outputs": [
    {
     "data": {
      "text/plain": [
       "Rank                              int64\n",
       "College Name                     object\n",
       "State                            object\n",
       "Undergraduate Tuition & Fees      int64\n",
       "SAT Score                       float64\n",
       "Acceptance Rate                 float64\n",
       "Population                        int64\n",
       "Graduation Rate                 float64\n",
       "Student to Faculty Ratio         object\n",
       "dtype: object"
      ]
     },
     "execution_count": 10,
     "metadata": {},
     "output_type": "execute_result"
    }
   ],
   "source": [
    "df.dtypes"
   ]
  },
  {
   "cell_type": "markdown",
   "id": "5a0a1e76-79fe-4ad8-87f3-7b70bf8cc59f",
   "metadata": {},
   "source": [
    "I'll print some average statistics of our numerical factors to give an overview of the averages of these values in the United States, then look at the statistics of those values"
   ]
  },
  {
   "cell_type": "code",
   "execution_count": 11,
   "id": "87c2430b-2317-4ecb-96b7-027b0970d608",
   "metadata": {},
   "outputs": [
    {
     "name": "stdout",
     "output_type": "stream",
     "text": [
      "The average SAT score of the top 100 colleges in the US is 1368\n",
      "The average student population of the top 100 colleges in the US is 24881\n",
      "The average tuition of the top 100 colleges in the US is $46046\n",
      "The average acceptance rate of the top 100 colleges in the US is 36.68%\n",
      "The average graduation rate of the top 100 colleges in the US is 84.67%\n"
     ]
    }
   ],
   "source": [
    "print(\"The average SAT score of the top 100 colleges in the US is \" + str(round(df['SAT Score'].mean())))\n",
    "print(\"The average student population of the top 100 colleges in the US is \" + str(round(df['Population'].mean())))\n",
    "print(\"The average tuition of the top 100 colleges in the US is $\" + str(round(df['Undergraduate Tuition & Fees'].mean())))\n",
    "print(\"The average acceptance rate of the top 100 colleges in the US is \" + str(round(df['Acceptance Rate'].mean()*100, 2)) + \"%\")\n",
    "print(\"The average graduation rate of the top 100 colleges in the US is \" + str(round(df['Graduation Rate'].mean()*100, 2)) + \"%\")"
   ]
  },
  {
   "cell_type": "code",
   "execution_count": 12,
   "id": "80856596-aa6f-475e-baaf-49a3aa4100a7",
   "metadata": {},
   "outputs": [
    {
     "data": {
      "text/plain": [
       "count      99.000000\n",
       "mean     1367.525253\n",
       "std       108.457115\n",
       "min       915.000000\n",
       "25%      1290.000000\n",
       "50%      1365.000000\n",
       "75%      1442.500000\n",
       "max      1545.000000\n",
       "Name: SAT Score, dtype: float64"
      ]
     },
     "execution_count": 12,
     "metadata": {},
     "output_type": "execute_result"
    }
   ],
   "source": [
    "df['SAT Score'].describe()"
   ]
  },
  {
   "cell_type": "markdown",
   "id": "970394c7-e913-49c1-af5f-47c254fc3bb4",
   "metadata": {},
   "source": [
    "The minimum SAT score looks a little low to me, let's see what college it is and determine if it's an outlier"
   ]
  },
  {
   "cell_type": "code",
   "execution_count": 13,
   "id": "59e25be6-713d-4152-bd95-48ef69484964",
   "metadata": {},
   "outputs": [
    {
     "name": "stdout",
     "output_type": "stream",
     "text": [
      "    Rank          College Name State  Undergraduate Tuition & Fees  SAT Score  \\\n",
      "73    74  Gallaudet University    DC                         17038      915.0   \n",
      "\n",
      "    Acceptance Rate  Population  Graduation Rate Student to Faculty Ratio  \n",
      "73             0.61        1557             0.51                   6 to 1  \n"
     ]
    }
   ],
   "source": [
    "print(df[df['SAT Score'] == 915])"
   ]
  },
  {
   "cell_type": "code",
   "execution_count": 14,
   "id": "37837780-924f-4294-bbd8-b7c1ec04f597",
   "metadata": {},
   "outputs": [
    {
     "name": "stdout",
     "output_type": "stream",
     "text": [
      "-4.194444444444445\n"
     ]
    }
   ],
   "source": [
    "# Z-score for the lowest SAT score\n",
    "print((915-1368)/108)"
   ]
  },
  {
   "cell_type": "markdown",
   "id": "d3908a5e-9657-4f1f-91fd-36970cb45d99",
   "metadata": {},
   "source": [
    "This value is an outlier. The absolute value of its standard deviation is greater than 3. This makes sense, I've studied American Sign Language before and happen to know that Gaullaudet is a deaf school. A great deal of mainstreamed deaf students likely have not had the proper educational resources for most of their academic careers, or do not have proper accomodations at hearing schools."
   ]
  },
  {
   "cell_type": "code",
   "execution_count": 15,
   "id": "9f34a25c-2d0d-4959-841e-d080d5bcfb27",
   "metadata": {},
   "outputs": [
    {
     "data": {
      "text/plain": [
       "73     915.0\n",
       "99    1165.0\n",
       "Name: SAT Score, dtype: float64"
      ]
     },
     "execution_count": 15,
     "metadata": {},
     "output_type": "execute_result"
    }
   ],
   "source": [
    "df['SAT Score'].nsmallest(2)"
   ]
  },
  {
   "cell_type": "code",
   "execution_count": 16,
   "id": "c432946f-d6f9-4e3a-acdf-6e99a3e05d6f",
   "metadata": {},
   "outputs": [
    {
     "name": "stdout",
     "output_type": "stream",
     "text": [
      "-1.8796296296296295\n"
     ]
    }
   ],
   "source": [
    "# Z-score for the second lowest SAT score\n",
    "print((1165-1368)/108)"
   ]
  },
  {
   "cell_type": "markdown",
   "id": "7d6ee960-7d65-452f-8054-3618f5173414",
   "metadata": {},
   "source": [
    "The second lowest SAT score doesn't appear to be an outlier"
   ]
  },
  {
   "cell_type": "code",
   "execution_count": 17,
   "id": "7eb30ec8-60ae-4d9f-aed6-9a6b1a0df52c",
   "metadata": {},
   "outputs": [
    {
     "data": {
      "text/plain": [
       "count    100.000000\n",
       "mean       0.846700\n",
       "std        0.092791\n",
       "min        0.510000\n",
       "25%        0.810000\n",
       "50%        0.860000\n",
       "75%        0.922500\n",
       "max        0.980000\n",
       "Name: Graduation Rate, dtype: float64"
      ]
     },
     "execution_count": 17,
     "metadata": {},
     "output_type": "execute_result"
    }
   ],
   "source": [
    "df['Graduation Rate'].describe()"
   ]
  },
  {
   "cell_type": "code",
   "execution_count": 18,
   "id": "56317bee-70f2-48da-905d-f29f302302ec",
   "metadata": {},
   "outputs": [
    {
     "name": "stdout",
     "output_type": "stream",
     "text": [
      "-3.628584668771756\n"
     ]
    }
   ],
   "source": [
    "#Z-score for lowest graduation rate\n",
    "print((0.51-0.8467)/0.092791)"
   ]
  },
  {
   "cell_type": "markdown",
   "id": "84198cc7-a2e8-413b-9fdf-670136e314de",
   "metadata": {},
   "source": [
    "The absolute value of the z-score is greater than 3, this is an outlier"
   ]
  },
  {
   "cell_type": "code",
   "execution_count": 19,
   "id": "8f317456-94ce-4975-9784-6e402a7571f5",
   "metadata": {},
   "outputs": [
    {
     "name": "stdout",
     "output_type": "stream",
     "text": [
      "    Rank          College Name State  Undergraduate Tuition & Fees  SAT Score  \\\n",
      "73    74  Gallaudet University    DC                         17038      915.0   \n",
      "\n",
      "    Acceptance Rate  Population  Graduation Rate Student to Faculty Ratio  \n",
      "73             0.61        1557             0.51                   6 to 1  \n"
     ]
    }
   ],
   "source": [
    "print(df[df['Graduation Rate'] == 0.51])"
   ]
  },
  {
   "cell_type": "markdown",
   "id": "05f6339c-327d-47e1-885a-df636e12d252",
   "metadata": {},
   "source": [
    "It's Gallaudet again. I'm going to drop this college from the data, it likely is not representative of other US schools and shouldn't be judged with them. While I'm at it, I'll also drop student faculty ratio to focus on other quantitative factors."
   ]
  },
  {
   "cell_type": "code",
   "execution_count": 20,
   "id": "9331c9c1-0cee-47ef-93c9-4666ca33fb30",
   "metadata": {},
   "outputs": [],
   "source": [
    "df = df.drop(labels = 73, axis = 0)"
   ]
  },
  {
   "cell_type": "code",
   "execution_count": 21,
   "id": "ee8a573c-4b0d-4345-b5ce-a2fe255c50f8",
   "metadata": {},
   "outputs": [],
   "source": [
    "df = df.drop('Student to Faculty Ratio', axis=1)"
   ]
  },
  {
   "cell_type": "code",
   "execution_count": 22,
   "id": "57dd975f-edc4-4a3a-9c5d-e44dcc0cafab",
   "metadata": {},
   "outputs": [
    {
     "data": {
      "text/plain": [
       "(99, 8)"
      ]
     },
     "execution_count": 22,
     "metadata": {},
     "output_type": "execute_result"
    }
   ],
   "source": [
    "df.shape"
   ]
  },
  {
   "cell_type": "code",
   "execution_count": 23,
   "id": "869a9238-65b8-4f61-b531-634775eb08f7",
   "metadata": {},
   "outputs": [
    {
     "data": {
      "text/plain": [
       "count    99.000000\n",
       "mean      0.850101\n",
       "std       0.086773\n",
       "min       0.610000\n",
       "25%       0.815000\n",
       "50%       0.860000\n",
       "75%       0.925000\n",
       "max       0.980000\n",
       "Name: Graduation Rate, dtype: float64"
      ]
     },
     "execution_count": 23,
     "metadata": {},
     "output_type": "execute_result"
    }
   ],
   "source": [
    "df['Graduation Rate'].describe()"
   ]
  },
  {
   "cell_type": "code",
   "execution_count": 24,
   "id": "3868fdd4-13b9-47d3-8696-64c54dc8a808",
   "metadata": {},
   "outputs": [
    {
     "name": "stdout",
     "output_type": "stream",
     "text": [
      "-2.6666666666666665\n"
     ]
    }
   ],
   "source": [
    "# Z-score for the new minimum graduation rate\n",
    "print((0.61-0.85)/0.09)"
   ]
  },
  {
   "cell_type": "markdown",
   "id": "f42195fd-b7b8-407f-8047-2bc9650ed98b",
   "metadata": {},
   "source": [
    "The absolute value of this z-score is less than 3. There appear to be no other outliers in need of removal"
   ]
  },
  {
   "cell_type": "code",
   "execution_count": 25,
   "id": "d668484a-f57e-4b47-99df-2fa83025d68c",
   "metadata": {},
   "outputs": [
    {
     "data": {
      "text/plain": [
       "count       99.000000\n",
       "mean     25116.323232\n",
       "std      16642.284214\n",
       "min       2233.000000\n",
       "25%      11302.000000\n",
       "50%      19700.000000\n",
       "75%      36959.500000\n",
       "max      68679.000000\n",
       "Name: Population, dtype: float64"
      ]
     },
     "execution_count": 25,
     "metadata": {},
     "output_type": "execute_result"
    }
   ],
   "source": [
    "df['Population'].describe()"
   ]
  },
  {
   "cell_type": "code",
   "execution_count": 26,
   "id": "ce766543-a899-4b4c-8bc0-3ebf164a8acf",
   "metadata": {},
   "outputs": [
    {
     "data": {
      "text/plain": [
       "count    99.000000\n",
       "mean      0.364343\n",
       "std       0.218128\n",
       "min       0.040000\n",
       "25%       0.160000\n",
       "50%       0.360000\n",
       "75%       0.540000\n",
       "max       0.860000\n",
       "Name: Acceptance Rate, dtype: float64"
      ]
     },
     "execution_count": 26,
     "metadata": {},
     "output_type": "execute_result"
    }
   ],
   "source": [
    "df['Acceptance Rate'].describe()"
   ]
  },
  {
   "cell_type": "markdown",
   "id": "cf9e7359-79ff-4b28-9bb9-a8e777a8ec4b",
   "metadata": {},
   "source": [
    "Population and acceptance rate can vary greatly by type of school, size of school, resources etc. so outliers in these variables are probably not causes for concern. That said, lets look how population is distributed across the top 100 colleges"
   ]
  },
  {
   "cell_type": "code",
   "execution_count": 27,
   "id": "17738f73-b3f2-46bf-ad71-1fcb575ac318",
   "metadata": {},
   "outputs": [
    {
     "data": {
      "image/png": "[encoded data removed]",
      "text/plain": [
       "<Figure size 432x288 with 1 Axes>"
      ]
     },
     "metadata": {
      "needs_background": "light"
     },
     "output_type": "display_data"
    }
   ],
   "source": [
    "df['Population'].hist()\n",
    "plt.title('Student Population at Top 100 US Colleges')\n",
    "plt.xlabel('Student Population')\n",
    "plt.ylabel('Count of Colleges')\n",
    "plt.show()"
   ]
  },
  {
   "cell_type": "markdown",
   "id": "8bfb5117-3bd4-4cf5-8890-e87952ab86db",
   "metadata": {},
   "source": [
    "The histogram is skewed right. There are significantly more colleges in the 10,000-20,000 student range than the higher 60,000+ range. There is however, a wide range likely due to different populations of states and variations between public and private universites. We can see below that the maximum population value is at Texas A&M, a large public research university in Texas. On the other hand, the minimum value is Cal Tech, a small private tech school."
   ]
  },
  {
   "cell_type": "code",
   "execution_count": 28,
   "id": "4f98642e-2155-42cc-afcb-9da19d09e453",
   "metadata": {},
   "outputs": [
    {
     "name": "stdout",
     "output_type": "stream",
     "text": [
      "    Rank                            College Name State  \\\n",
      "78    79  Texas A & M University-College Station    TX   \n",
      "\n",
      "    Undergraduate Tuition & Fees  SAT Score  Acceptance Rate  Population  \\\n",
      "78                         39340     1275.0             0.58       68679   \n",
      "\n",
      "    Graduation Rate  \n",
      "78             0.82  \n"
     ]
    }
   ],
   "source": [
    "print(df[df['Population'] == 68679])"
   ]
  },
  {
   "cell_type": "code",
   "execution_count": 29,
   "id": "535bebf2-f156-438e-820b-0441e806cc6b",
   "metadata": {},
   "outputs": [
    {
     "name": "stdout",
     "output_type": "stream",
     "text": [
      "   Rank                        College Name State  \\\n",
      "6     7  California Institute of Technology    CA   \n",
      "\n",
      "   Undergraduate Tuition & Fees  SAT Score  Acceptance Rate  Population  \\\n",
      "6                         56862     1545.0             0.06        2233   \n",
      "\n",
      "   Graduation Rate  \n",
      "6             0.94  \n"
     ]
    }
   ],
   "source": [
    "print(df[df['Population'] == 2233])"
   ]
  },
  {
   "cell_type": "code",
   "execution_count": 30,
   "id": "1106beca-6369-4eb9-a47f-4a9a401d03f0",
   "metadata": {},
   "outputs": [
    {
     "data": {
      "image/png": "[encoded data removed]",
      "text/plain": [
       "<Figure size 432x288 with 1 Axes>"
      ]
     },
     "metadata": {
      "needs_background": "light"
     },
     "output_type": "display_data"
    }
   ],
   "source": [
    "df['Undergraduate Tuition & Fees'].hist()\n",
    "plt.title('Histogram Tuition at Top 100 US Colleges')\n",
    "plt.xlabel('Tuition in $')\n",
    "plt.ylabel('Count of Colleges')\n",
    "plt.show()"
   ]
  },
  {
   "cell_type": "markdown",
   "id": "e92f1ea7-fe88-4e5a-b540-ddd800d43c3f",
   "metadata": {},
   "source": [
    "Tuition on the other hand is skewed left, showing a disturbingly large amount of US colleges charging their students massive amounts of money."
   ]
  },
  {
   "cell_type": "code",
   "execution_count": 31,
   "id": "95f3c52e-1c45-45e1-bd90-b94b0791eb46",
   "metadata": {},
   "outputs": [
    {
     "data": {
      "text/plain": [
       "count       99.000000\n",
       "mean     46339.111111\n",
       "std      12625.979888\n",
       "min       5970.000000\n",
       "25%      36525.000000\n",
       "50%      51361.000000\n",
       "75%      57300.000000\n",
       "max      61671.000000\n",
       "Name: Undergraduate Tuition & Fees, dtype: float64"
      ]
     },
     "execution_count": 31,
     "metadata": {},
     "output_type": "execute_result"
    }
   ],
   "source": [
    "df['Undergraduate Tuition & Fees'].describe()"
   ]
  },
  {
   "cell_type": "markdown",
   "id": "fff91fcf-8f80-4933-83aa-17cf08ed5e49",
   "metadata": {},
   "source": [
    "Intuitively, it would seem that cheaper colleges would be public schools while more expensive colleges are private, let's see if our intuition is right"
   ]
  },
  {
   "cell_type": "code",
   "execution_count": 32,
   "id": "a1a632d5-2742-42a4-9133-df22aaf222f7",
   "metadata": {},
   "outputs": [],
   "source": [
    "df2 = df.sort_values(by=['Undergraduate Tuition & Fees'])"
   ]
  },
  {
   "cell_type": "code",
   "execution_count": 33,
   "id": "bcbd836e-dce5-4378-8f3a-d5142ca00220",
   "metadata": {},
   "outputs": [
    {
     "data": {
      "text/html": [
       "<div>\n",
       "<style scoped>\n",
       "    .dataframe tbody tr th:only-of-type {\n",
       "        vertical-align: middle;\n",
       "    }\n",
       "\n",
       "    .dataframe tbody tr th {\n",
       "        vertical-align: top;\n",
       "    }\n",
       "\n",
       "    .dataframe thead th {\n",
       "        text-align: right;\n",
       "    }\n",
       "</style>\n",
       "<table border=\"1\" class=\"dataframe\">\n",
       "  <thead>\n",
       "    <tr style=\"text-align: right;\">\n",
       "      <th></th>\n",
       "      <th>Rank</th>\n",
       "      <th>College Name</th>\n",
       "      <th>State</th>\n",
       "      <th>Undergraduate Tuition &amp; Fees</th>\n",
       "      <th>SAT Score</th>\n",
       "      <th>Acceptance Rate</th>\n",
       "      <th>Population</th>\n",
       "      <th>Graduation Rate</th>\n",
       "    </tr>\n",
       "  </thead>\n",
       "  <tbody>\n",
       "    <tr>\n",
       "      <th>35</th>\n",
       "      <td>36</td>\n",
       "      <td>Brigham Young University-Provo</td>\n",
       "      <td>UT</td>\n",
       "      <td>5970</td>\n",
       "      <td>1315.0</td>\n",
       "      <td>0.67</td>\n",
       "      <td>34499</td>\n",
       "      <td>0.78</td>\n",
       "    </tr>\n",
       "    <tr>\n",
       "      <th>62</th>\n",
       "      <td>63</td>\n",
       "      <td>Florida State University</td>\n",
       "      <td>FL</td>\n",
       "      <td>18786</td>\n",
       "      <td>1270.0</td>\n",
       "      <td>0.36</td>\n",
       "      <td>41005</td>\n",
       "      <td>0.83</td>\n",
       "    </tr>\n",
       "    <tr>\n",
       "      <th>97</th>\n",
       "      <td>98</td>\n",
       "      <td>Florida International University</td>\n",
       "      <td>FL</td>\n",
       "      <td>18963</td>\n",
       "      <td>1195.0</td>\n",
       "      <td>0.58</td>\n",
       "      <td>57942</td>\n",
       "      <td>0.63</td>\n",
       "    </tr>\n",
       "    <tr>\n",
       "      <th>96</th>\n",
       "      <td>97</td>\n",
       "      <td>San Diego State University</td>\n",
       "      <td>CA</td>\n",
       "      <td>19600</td>\n",
       "      <td>1215.0</td>\n",
       "      <td>0.34</td>\n",
       "      <td>35303</td>\n",
       "      <td>0.73</td>\n",
       "    </tr>\n",
       "    <tr>\n",
       "      <th>82</th>\n",
       "      <td>83</td>\n",
       "      <td>University of Pittsburgh-Pittsburgh Campus</td>\n",
       "      <td>PA</td>\n",
       "      <td>19679</td>\n",
       "      <td>1350.0</td>\n",
       "      <td>0.57</td>\n",
       "      <td>28673</td>\n",
       "      <td>0.83</td>\n",
       "    </tr>\n",
       "    <tr>\n",
       "      <th>99</th>\n",
       "      <td>100</td>\n",
       "      <td>Harding University</td>\n",
       "      <td>AR</td>\n",
       "      <td>21540</td>\n",
       "      <td>1165.0</td>\n",
       "      <td>0.61</td>\n",
       "      <td>5121</td>\n",
       "      <td>0.69</td>\n",
       "    </tr>\n",
       "    <tr>\n",
       "      <th>86</th>\n",
       "      <td>87</td>\n",
       "      <td>University of Central Florida</td>\n",
       "      <td>FL</td>\n",
       "      <td>22467</td>\n",
       "      <td>1255.0</td>\n",
       "      <td>0.44</td>\n",
       "      <td>68475</td>\n",
       "      <td>0.72</td>\n",
       "    </tr>\n",
       "    <tr>\n",
       "      <th>45</th>\n",
       "      <td>46</td>\n",
       "      <td>University of Florida</td>\n",
       "      <td>FL</td>\n",
       "      <td>28659</td>\n",
       "      <td>1390.0</td>\n",
       "      <td>0.37</td>\n",
       "      <td>52218</td>\n",
       "      <td>0.88</td>\n",
       "    </tr>\n",
       "    <tr>\n",
       "      <th>61</th>\n",
       "      <td>62</td>\n",
       "      <td>Purdue University-Main Campus</td>\n",
       "      <td>IN</td>\n",
       "      <td>28794</td>\n",
       "      <td>1315.0</td>\n",
       "      <td>0.60</td>\n",
       "      <td>44474</td>\n",
       "      <td>0.82</td>\n",
       "    </tr>\n",
       "    <tr>\n",
       "      <th>71</th>\n",
       "      <td>72</td>\n",
       "      <td>North Carolina State University at Raleigh</td>\n",
       "      <td>NC</td>\n",
       "      <td>29220</td>\n",
       "      <td>1335.0</td>\n",
       "      <td>0.45</td>\n",
       "      <td>35479</td>\n",
       "      <td>0.82</td>\n",
       "    </tr>\n",
       "    <tr>\n",
       "      <th>92</th>\n",
       "      <td>93</td>\n",
       "      <td>Missouri University of Science and Technology</td>\n",
       "      <td>MO</td>\n",
       "      <td>29376</td>\n",
       "      <td>1325.0</td>\n",
       "      <td>0.79</td>\n",
       "      <td>8601</td>\n",
       "      <td>0.66</td>\n",
       "    </tr>\n",
       "    <tr>\n",
       "      <th>80</th>\n",
       "      <td>81</td>\n",
       "      <td>Arizona State University-Tempe</td>\n",
       "      <td>AZ</td>\n",
       "      <td>29428</td>\n",
       "      <td>1240.0</td>\n",
       "      <td>0.86</td>\n",
       "      <td>51585</td>\n",
       "      <td>0.63</td>\n",
       "    </tr>\n",
       "    <tr>\n",
       "      <th>56</th>\n",
       "      <td>57</td>\n",
       "      <td>University of Georgia</td>\n",
       "      <td>GA</td>\n",
       "      <td>31120</td>\n",
       "      <td>1330.0</td>\n",
       "      <td>0.45</td>\n",
       "      <td>38652</td>\n",
       "      <td>0.87</td>\n",
       "    </tr>\n",
       "    <tr>\n",
       "      <th>84</th>\n",
       "      <td>85</td>\n",
       "      <td>The University of Tennessee-Knoxville</td>\n",
       "      <td>TN</td>\n",
       "      <td>31664</td>\n",
       "      <td>1240.0</td>\n",
       "      <td>0.79</td>\n",
       "      <td>28894</td>\n",
       "      <td>0.72</td>\n",
       "    </tr>\n",
       "    <tr>\n",
       "      <th>85</th>\n",
       "      <td>86</td>\n",
       "      <td>Rutgers University-New Brunswick</td>\n",
       "      <td>NJ</td>\n",
       "      <td>31785</td>\n",
       "      <td>1320.0</td>\n",
       "      <td>0.61</td>\n",
       "      <td>50254</td>\n",
       "      <td>0.84</td>\n",
       "    </tr>\n",
       "    <tr>\n",
       "      <th>59</th>\n",
       "      <td>60</td>\n",
       "      <td>University of Illinois at Urbana-Champaign</td>\n",
       "      <td>IL</td>\n",
       "      <td>32600</td>\n",
       "      <td>1340.0</td>\n",
       "      <td>0.59</td>\n",
       "      <td>49702</td>\n",
       "      <td>0.85</td>\n",
       "    </tr>\n",
       "    <tr>\n",
       "      <th>69</th>\n",
       "      <td>70</td>\n",
       "      <td>Virginia Polytechnic Institute and State Unive...</td>\n",
       "      <td>VA</td>\n",
       "      <td>32893</td>\n",
       "      <td>1285.0</td>\n",
       "      <td>0.70</td>\n",
       "      <td>34683</td>\n",
       "      <td>0.86</td>\n",
       "    </tr>\n",
       "    <tr>\n",
       "      <th>91</th>\n",
       "      <td>92</td>\n",
       "      <td>University of Minnesota-Twin Cities</td>\n",
       "      <td>MN</td>\n",
       "      <td>33325</td>\n",
       "      <td>1370.0</td>\n",
       "      <td>0.57</td>\n",
       "      <td>50734</td>\n",
       "      <td>0.83</td>\n",
       "    </tr>\n",
       "    <tr>\n",
       "      <th>64</th>\n",
       "      <td>65</td>\n",
       "      <td>Ohio State University-Main Campus</td>\n",
       "      <td>OH</td>\n",
       "      <td>33502</td>\n",
       "      <td>1355.0</td>\n",
       "      <td>0.54</td>\n",
       "      <td>61170</td>\n",
       "      <td>0.86</td>\n",
       "    </tr>\n",
       "    <tr>\n",
       "      <th>88</th>\n",
       "      <td>89</td>\n",
       "      <td>University of Massachusetts-Lowell</td>\n",
       "      <td>MA</td>\n",
       "      <td>33624</td>\n",
       "      <td>1235.0</td>\n",
       "      <td>0.73</td>\n",
       "      <td>18242</td>\n",
       "      <td>0.66</td>\n",
       "    </tr>\n",
       "    <tr>\n",
       "      <th>31</th>\n",
       "      <td>32</td>\n",
       "      <td>Georgia Institute of Technology-Main Campus</td>\n",
       "      <td>GA</td>\n",
       "      <td>33964</td>\n",
       "      <td>1405.0</td>\n",
       "      <td>0.21</td>\n",
       "      <td>32723</td>\n",
       "      <td>0.90</td>\n",
       "    </tr>\n",
       "    <tr>\n",
       "      <th>95</th>\n",
       "      <td>96</td>\n",
       "      <td>University of Hawaii at Manoa</td>\n",
       "      <td>HI</td>\n",
       "      <td>34218</td>\n",
       "      <td>1170.0</td>\n",
       "      <td>0.58</td>\n",
       "      <td>17710</td>\n",
       "      <td>0.61</td>\n",
       "    </tr>\n",
       "    <tr>\n",
       "      <th>72</th>\n",
       "      <td>73</td>\n",
       "      <td>Pennsylvania State University-Main Campus</td>\n",
       "      <td>PA</td>\n",
       "      <td>35514</td>\n",
       "      <td>1190.0</td>\n",
       "      <td>0.76</td>\n",
       "      <td>46810</td>\n",
       "      <td>0.71</td>\n",
       "    </tr>\n",
       "    <tr>\n",
       "      <th>66</th>\n",
       "      <td>67</td>\n",
       "      <td>University of Delaware</td>\n",
       "      <td>DE</td>\n",
       "      <td>36090</td>\n",
       "      <td>1255.0</td>\n",
       "      <td>0.71</td>\n",
       "      <td>24120</td>\n",
       "      <td>0.81</td>\n",
       "    </tr>\n",
       "    <tr>\n",
       "      <th>29</th>\n",
       "      <td>30</td>\n",
       "      <td>University of North Carolina at Chapel Hill</td>\n",
       "      <td>NC</td>\n",
       "      <td>36159</td>\n",
       "      <td>1405.0</td>\n",
       "      <td>0.23</td>\n",
       "      <td>30011</td>\n",
       "      <td>0.91</td>\n",
       "    </tr>\n",
       "  </tbody>\n",
       "</table>\n",
       "</div>"
      ],
      "text/plain": [
       "    Rank                                       College Name State  \\\n",
       "35    36                     Brigham Young University-Provo    UT   \n",
       "62    63                           Florida State University    FL   \n",
       "97    98                   Florida International University    FL   \n",
       "96    97                         San Diego State University    CA   \n",
       "82    83         University of Pittsburgh-Pittsburgh Campus    PA   \n",
       "99   100                                 Harding University    AR   \n",
       "86    87                      University of Central Florida    FL   \n",
       "45    46                              University of Florida    FL   \n",
       "61    62                      Purdue University-Main Campus    IN   \n",
       "71    72         North Carolina State University at Raleigh    NC   \n",
       "92    93      Missouri University of Science and Technology    MO   \n",
       "80    81                     Arizona State University-Tempe    AZ   \n",
       "56    57                              University of Georgia    GA   \n",
       "84    85              The University of Tennessee-Knoxville    TN   \n",
       "85    86                   Rutgers University-New Brunswick    NJ   \n",
       "59    60         University of Illinois at Urbana-Champaign    IL   \n",
       "69    70  Virginia Polytechnic Institute and State Unive...    VA   \n",
       "91    92                University of Minnesota-Twin Cities    MN   \n",
       "64    65                  Ohio State University-Main Campus    OH   \n",
       "88    89                 University of Massachusetts-Lowell    MA   \n",
       "31    32        Georgia Institute of Technology-Main Campus    GA   \n",
       "95    96                      University of Hawaii at Manoa    HI   \n",
       "72    73          Pennsylvania State University-Main Campus    PA   \n",
       "66    67                             University of Delaware    DE   \n",
       "29    30        University of North Carolina at Chapel Hill    NC   \n",
       "\n",
       "    Undergraduate Tuition & Fees  SAT Score  Acceptance Rate  Population  \\\n",
       "35                          5970     1315.0             0.67       34499   \n",
       "62                         18786     1270.0             0.36       41005   \n",
       "97                         18963     1195.0             0.58       57942   \n",
       "96                         19600     1215.0             0.34       35303   \n",
       "82                         19679     1350.0             0.57       28673   \n",
       "99                         21540     1165.0             0.61        5121   \n",
       "86                         22467     1255.0             0.44       68475   \n",
       "45                         28659     1390.0             0.37       52218   \n",
       "61                         28794     1315.0             0.60       44474   \n",
       "71                         29220     1335.0             0.45       35479   \n",
       "92                         29376     1325.0             0.79        8601   \n",
       "80                         29428     1240.0             0.86       51585   \n",
       "56                         31120     1330.0             0.45       38652   \n",
       "84                         31664     1240.0             0.79       28894   \n",
       "85                         31785     1320.0             0.61       50254   \n",
       "59                         32600     1340.0             0.59       49702   \n",
       "69                         32893     1285.0             0.70       34683   \n",
       "91                         33325     1370.0             0.57       50734   \n",
       "64                         33502     1355.0             0.54       61170   \n",
       "88                         33624     1235.0             0.73       18242   \n",
       "31                         33964     1405.0             0.21       32723   \n",
       "95                         34218     1170.0             0.58       17710   \n",
       "72                         35514     1190.0             0.76       46810   \n",
       "66                         36090     1255.0             0.71       24120   \n",
       "29                         36159     1405.0             0.23       30011   \n",
       "\n",
       "    Graduation Rate  \n",
       "35             0.78  \n",
       "62             0.83  \n",
       "97             0.63  \n",
       "96             0.73  \n",
       "82             0.83  \n",
       "99             0.69  \n",
       "86             0.72  \n",
       "45             0.88  \n",
       "61             0.82  \n",
       "71             0.82  \n",
       "92             0.66  \n",
       "80             0.63  \n",
       "56             0.87  \n",
       "84             0.72  \n",
       "85             0.84  \n",
       "59             0.85  \n",
       "69             0.86  \n",
       "91             0.83  \n",
       "64             0.86  \n",
       "88             0.66  \n",
       "31             0.90  \n",
       "95             0.61  \n",
       "72             0.71  \n",
       "66             0.81  \n",
       "29             0.91  "
      ]
     },
     "execution_count": 33,
     "metadata": {},
     "output_type": "execute_result"
    }
   ],
   "source": [
    "df2.head(25)"
   ]
  },
  {
   "cell_type": "code",
   "execution_count": 34,
   "id": "1afce139-1358-460d-9f23-a7db798d7aee",
   "metadata": {},
   "outputs": [
    {
     "data": {
      "text/html": [
       "<div>\n",
       "<style scoped>\n",
       "    .dataframe tbody tr th:only-of-type {\n",
       "        vertical-align: middle;\n",
       "    }\n",
       "\n",
       "    .dataframe tbody tr th {\n",
       "        vertical-align: top;\n",
       "    }\n",
       "\n",
       "    .dataframe thead th {\n",
       "        text-align: right;\n",
       "    }\n",
       "</style>\n",
       "<table border=\"1\" class=\"dataframe\">\n",
       "  <thead>\n",
       "    <tr style=\"text-align: right;\">\n",
       "      <th></th>\n",
       "      <th>Rank</th>\n",
       "      <th>College Name</th>\n",
       "      <th>State</th>\n",
       "      <th>Undergraduate Tuition &amp; Fees</th>\n",
       "      <th>SAT Score</th>\n",
       "      <th>Acceptance Rate</th>\n",
       "      <th>Population</th>\n",
       "      <th>Graduation Rate</th>\n",
       "    </tr>\n",
       "  </thead>\n",
       "  <tbody>\n",
       "    <tr>\n",
       "      <th>21</th>\n",
       "      <td>22</td>\n",
       "      <td>Washington University in St Louis</td>\n",
       "      <td>MO</td>\n",
       "      <td>57386</td>\n",
       "      <td>1520.0</td>\n",
       "      <td>0.14</td>\n",
       "      <td>15852</td>\n",
       "      <td>0.95</td>\n",
       "    </tr>\n",
       "    <tr>\n",
       "      <th>46</th>\n",
       "      <td>47</td>\n",
       "      <td>Villanova University</td>\n",
       "      <td>PA</td>\n",
       "      <td>57460</td>\n",
       "      <td>1395.0</td>\n",
       "      <td>0.28</td>\n",
       "      <td>11030</td>\n",
       "      <td>0.90</td>\n",
       "    </tr>\n",
       "    <tr>\n",
       "      <th>44</th>\n",
       "      <td>45</td>\n",
       "      <td>Brandeis University</td>\n",
       "      <td>MA</td>\n",
       "      <td>57615</td>\n",
       "      <td>1435.0</td>\n",
       "      <td>0.30</td>\n",
       "      <td>5800</td>\n",
       "      <td>0.87</td>\n",
       "    </tr>\n",
       "    <tr>\n",
       "      <th>12</th>\n",
       "      <td>13</td>\n",
       "      <td>Duke University</td>\n",
       "      <td>NC</td>\n",
       "      <td>57633</td>\n",
       "      <td>1525.0</td>\n",
       "      <td>0.08</td>\n",
       "      <td>16606</td>\n",
       "      <td>0.95</td>\n",
       "    </tr>\n",
       "    <tr>\n",
       "      <th>22</th>\n",
       "      <td>23</td>\n",
       "      <td>University of Notre Dame</td>\n",
       "      <td>IN</td>\n",
       "      <td>57699</td>\n",
       "      <td>1475.0</td>\n",
       "      <td>0.16</td>\n",
       "      <td>12607</td>\n",
       "      <td>0.96</td>\n",
       "    </tr>\n",
       "    <tr>\n",
       "      <th>5</th>\n",
       "      <td>6</td>\n",
       "      <td>Yale University</td>\n",
       "      <td>CT</td>\n",
       "      <td>57700</td>\n",
       "      <td>1515.0</td>\n",
       "      <td>0.06</td>\n",
       "      <td>13433</td>\n",
       "      <td>0.97</td>\n",
       "    </tr>\n",
       "    <tr>\n",
       "      <th>79</th>\n",
       "      <td>80</td>\n",
       "      <td>Wake Forest University</td>\n",
       "      <td>NC</td>\n",
       "      <td>57760</td>\n",
       "      <td>NaN</td>\n",
       "      <td>0.30</td>\n",
       "      <td>8401</td>\n",
       "      <td>0.88</td>\n",
       "    </tr>\n",
       "    <tr>\n",
       "      <th>18</th>\n",
       "      <td>19</td>\n",
       "      <td>Georgetown University</td>\n",
       "      <td>DC</td>\n",
       "      <td>57928</td>\n",
       "      <td>1465.0</td>\n",
       "      <td>0.14</td>\n",
       "      <td>19204</td>\n",
       "      <td>0.95</td>\n",
       "    </tr>\n",
       "    <tr>\n",
       "      <th>58</th>\n",
       "      <td>59</td>\n",
       "      <td>Pepperdine University</td>\n",
       "      <td>CA</td>\n",
       "      <td>58002</td>\n",
       "      <td>1340.0</td>\n",
       "      <td>0.32</td>\n",
       "      <td>7961</td>\n",
       "      <td>0.86</td>\n",
       "    </tr>\n",
       "    <tr>\n",
       "      <th>32</th>\n",
       "      <td>33</td>\n",
       "      <td>Boston University</td>\n",
       "      <td>MA</td>\n",
       "      <td>58072</td>\n",
       "      <td>1425.0</td>\n",
       "      <td>0.19</td>\n",
       "      <td>34657</td>\n",
       "      <td>0.88</td>\n",
       "    </tr>\n",
       "    <tr>\n",
       "      <th>38</th>\n",
       "      <td>39</td>\n",
       "      <td>University of Rochester</td>\n",
       "      <td>NY</td>\n",
       "      <td>58241</td>\n",
       "      <td>1405.0</td>\n",
       "      <td>0.30</td>\n",
       "      <td>11817</td>\n",
       "      <td>0.87</td>\n",
       "    </tr>\n",
       "    <tr>\n",
       "      <th>75</th>\n",
       "      <td>76</td>\n",
       "      <td>Southern Methodist University</td>\n",
       "      <td>TX</td>\n",
       "      <td>58540</td>\n",
       "      <td>1390.0</td>\n",
       "      <td>0.47</td>\n",
       "      <td>11649</td>\n",
       "      <td>0.81</td>\n",
       "    </tr>\n",
       "    <tr>\n",
       "      <th>39</th>\n",
       "      <td>40</td>\n",
       "      <td>George Washington University</td>\n",
       "      <td>DC</td>\n",
       "      <td>58640</td>\n",
       "      <td>1375.0</td>\n",
       "      <td>0.41</td>\n",
       "      <td>28172</td>\n",
       "      <td>0.82</td>\n",
       "    </tr>\n",
       "    <tr>\n",
       "      <th>10</th>\n",
       "      <td>11</td>\n",
       "      <td>Northwestern University</td>\n",
       "      <td>IL</td>\n",
       "      <td>58701</td>\n",
       "      <td>1495.0</td>\n",
       "      <td>0.09</td>\n",
       "      <td>22127</td>\n",
       "      <td>0.94</td>\n",
       "    </tr>\n",
       "    <tr>\n",
       "      <th>24</th>\n",
       "      <td>25</td>\n",
       "      <td>Carnegie Mellon University</td>\n",
       "      <td>PA</td>\n",
       "      <td>58810</td>\n",
       "      <td>1510.0</td>\n",
       "      <td>0.15</td>\n",
       "      <td>14029</td>\n",
       "      <td>0.90</td>\n",
       "    </tr>\n",
       "    <tr>\n",
       "      <th>36</th>\n",
       "      <td>37</td>\n",
       "      <td>Tulane University of Louisiana</td>\n",
       "      <td>LA</td>\n",
       "      <td>58852</td>\n",
       "      <td>1440.0</td>\n",
       "      <td>0.13</td>\n",
       "      <td>12646</td>\n",
       "      <td>0.86</td>\n",
       "    </tr>\n",
       "    <tr>\n",
       "      <th>13</th>\n",
       "      <td>14</td>\n",
       "      <td>Cornell University</td>\n",
       "      <td>NY</td>\n",
       "      <td>59282</td>\n",
       "      <td>1480.0</td>\n",
       "      <td>0.11</td>\n",
       "      <td>23600</td>\n",
       "      <td>0.95</td>\n",
       "    </tr>\n",
       "    <tr>\n",
       "      <th>8</th>\n",
       "      <td>9</td>\n",
       "      <td>University of Pennsylvania</td>\n",
       "      <td>PA</td>\n",
       "      <td>60042</td>\n",
       "      <td>1505.0</td>\n",
       "      <td>0.08</td>\n",
       "      <td>25860</td>\n",
       "      <td>0.96</td>\n",
       "    </tr>\n",
       "    <tr>\n",
       "      <th>11</th>\n",
       "      <td>12</td>\n",
       "      <td>Dartmouth College</td>\n",
       "      <td>NH</td>\n",
       "      <td>60117</td>\n",
       "      <td>1500.0</td>\n",
       "      <td>0.08</td>\n",
       "      <td>6572</td>\n",
       "      <td>0.95</td>\n",
       "    </tr>\n",
       "    <tr>\n",
       "      <th>33</th>\n",
       "      <td>34</td>\n",
       "      <td>Boston College</td>\n",
       "      <td>MA</td>\n",
       "      <td>60202</td>\n",
       "      <td>1420.0</td>\n",
       "      <td>0.27</td>\n",
       "      <td>14720</td>\n",
       "      <td>0.94</td>\n",
       "    </tr>\n",
       "    <tr>\n",
       "      <th>19</th>\n",
       "      <td>20</td>\n",
       "      <td>University of Southern California</td>\n",
       "      <td>CA</td>\n",
       "      <td>60275</td>\n",
       "      <td>1445.0</td>\n",
       "      <td>0.11</td>\n",
       "      <td>47310</td>\n",
       "      <td>0.92</td>\n",
       "    </tr>\n",
       "    <tr>\n",
       "      <th>7</th>\n",
       "      <td>8</td>\n",
       "      <td>University of Chicago</td>\n",
       "      <td>IL</td>\n",
       "      <td>60552</td>\n",
       "      <td>1535.0</td>\n",
       "      <td>0.06</td>\n",
       "      <td>17002</td>\n",
       "      <td>0.95</td>\n",
       "    </tr>\n",
       "    <tr>\n",
       "      <th>9</th>\n",
       "      <td>10</td>\n",
       "      <td>Brown University</td>\n",
       "      <td>RI</td>\n",
       "      <td>60696</td>\n",
       "      <td>1505.0</td>\n",
       "      <td>0.07</td>\n",
       "      <td>10257</td>\n",
       "      <td>0.96</td>\n",
       "    </tr>\n",
       "    <tr>\n",
       "      <th>23</th>\n",
       "      <td>24</td>\n",
       "      <td>Tufts University</td>\n",
       "      <td>MA</td>\n",
       "      <td>60862</td>\n",
       "      <td>1465.0</td>\n",
       "      <td>0.15</td>\n",
       "      <td>11586</td>\n",
       "      <td>0.94</td>\n",
       "    </tr>\n",
       "    <tr>\n",
       "      <th>4</th>\n",
       "      <td>5</td>\n",
       "      <td>Columbia University in the City of New York</td>\n",
       "      <td>NY</td>\n",
       "      <td>61671</td>\n",
       "      <td>1505.0</td>\n",
       "      <td>0.05</td>\n",
       "      <td>31077</td>\n",
       "      <td>0.95</td>\n",
       "    </tr>\n",
       "  </tbody>\n",
       "</table>\n",
       "</div>"
      ],
      "text/plain": [
       "    Rank                                 College Name State  \\\n",
       "21    22            Washington University in St Louis    MO   \n",
       "46    47                         Villanova University    PA   \n",
       "44    45                          Brandeis University    MA   \n",
       "12    13                              Duke University    NC   \n",
       "22    23                     University of Notre Dame    IN   \n",
       "5      6                              Yale University    CT   \n",
       "79    80                       Wake Forest University    NC   \n",
       "18    19                        Georgetown University    DC   \n",
       "58    59                        Pepperdine University    CA   \n",
       "32    33                            Boston University    MA   \n",
       "38    39                      University of Rochester    NY   \n",
       "75    76                Southern Methodist University    TX   \n",
       "39    40                 George Washington University    DC   \n",
       "10    11                      Northwestern University    IL   \n",
       "24    25                   Carnegie Mellon University    PA   \n",
       "36    37               Tulane University of Louisiana    LA   \n",
       "13    14                           Cornell University    NY   \n",
       "8      9                   University of Pennsylvania    PA   \n",
       "11    12                            Dartmouth College    NH   \n",
       "33    34                               Boston College    MA   \n",
       "19    20            University of Southern California    CA   \n",
       "7      8                        University of Chicago    IL   \n",
       "9     10                             Brown University    RI   \n",
       "23    24                             Tufts University    MA   \n",
       "4      5  Columbia University in the City of New York    NY   \n",
       "\n",
       "    Undergraduate Tuition & Fees  SAT Score  Acceptance Rate  Population  \\\n",
       "21                         57386     1520.0             0.14       15852   \n",
       "46                         57460     1395.0             0.28       11030   \n",
       "44                         57615     1435.0             0.30        5800   \n",
       "12                         57633     1525.0             0.08       16606   \n",
       "22                         57699     1475.0             0.16       12607   \n",
       "5                          57700     1515.0             0.06       13433   \n",
       "79                         57760        NaN             0.30        8401   \n",
       "18                         57928     1465.0             0.14       19204   \n",
       "58                         58002     1340.0             0.32        7961   \n",
       "32                         58072     1425.0             0.19       34657   \n",
       "38                         58241     1405.0             0.30       11817   \n",
       "75                         58540     1390.0             0.47       11649   \n",
       "39                         58640     1375.0             0.41       28172   \n",
       "10                         58701     1495.0             0.09       22127   \n",
       "24                         58810     1510.0             0.15       14029   \n",
       "36                         58852     1440.0             0.13       12646   \n",
       "13                         59282     1480.0             0.11       23600   \n",
       "8                          60042     1505.0             0.08       25860   \n",
       "11                         60117     1500.0             0.08        6572   \n",
       "33                         60202     1420.0             0.27       14720   \n",
       "19                         60275     1445.0             0.11       47310   \n",
       "7                          60552     1535.0             0.06       17002   \n",
       "9                          60696     1505.0             0.07       10257   \n",
       "23                         60862     1465.0             0.15       11586   \n",
       "4                          61671     1505.0             0.05       31077   \n",
       "\n",
       "    Graduation Rate  \n",
       "21             0.95  \n",
       "46             0.90  \n",
       "44             0.87  \n",
       "12             0.95  \n",
       "22             0.96  \n",
       "5              0.97  \n",
       "79             0.88  \n",
       "18             0.95  \n",
       "58             0.86  \n",
       "32             0.88  \n",
       "38             0.87  \n",
       "75             0.81  \n",
       "39             0.82  \n",
       "10             0.94  \n",
       "24             0.90  \n",
       "36             0.86  \n",
       "13             0.95  \n",
       "8              0.96  \n",
       "11             0.95  \n",
       "33             0.94  \n",
       "19             0.92  \n",
       "7              0.95  \n",
       "9              0.96  \n",
       "23             0.94  \n",
       "4              0.95  "
      ]
     },
     "execution_count": 34,
     "metadata": {},
     "output_type": "execute_result"
    }
   ],
   "source": [
    "df2.tail(25)"
   ]
  },
  {
   "cell_type": "markdown",
   "id": "0b52d41f-0b57-4643-afae-3c8bca47bcb0",
   "metadata": {},
   "source": [
    "In fact the upper and lower quarter of the data match our intuition exactly. However, as seen below, one can still identify US public universities in the upper half of tuition such as the University of Michigan at Ann Arbor and the University of Virgina. While perhaps these prices are averages taking into account out of state tuitions, considering the fact that public univerisites are made for citizens to easily gain education, this fact is definitely noteworthy."
   ]
  },
  {
   "cell_type": "code",
   "execution_count": 35,
   "id": "57f65477-63fb-4eac-9c7d-be5ff719e895",
   "metadata": {},
   "outputs": [
    {
     "name": "stdout",
     "output_type": "stream",
     "text": [
      "    Rank                                 College Name State  \\\n",
      "0      1                          Stanford University    CA   \n",
      "1      2                           Harvard University    MA   \n",
      "3      4        Massachusetts Institute of Technology    MA   \n",
      "4      5  Columbia University in the City of New York    NY   \n",
      "5      6                              Yale University    CT   \n",
      "6      7           California Institute of Technology    CA   \n",
      "7      8                        University of Chicago    IL   \n",
      "8      9                   University of Pennsylvania    PA   \n",
      "9     10                             Brown University    RI   \n",
      "10    11                      Northwestern University    IL   \n",
      "11    12                            Dartmouth College    NH   \n",
      "12    13                              Duke University    NC   \n",
      "13    14                           Cornell University    NY   \n",
      "15    16                        Vanderbilt University    TN   \n",
      "18    19                        Georgetown University    DC   \n",
      "19    20            University of Southern California    CA   \n",
      "20    21                     Johns Hopkins University    MD   \n",
      "21    22            Washington University in St Louis    MO   \n",
      "22    23                     University of Notre Dame    IN   \n",
      "23    24                             Tufts University    MA   \n",
      "24    25                   Carnegie Mellon University    PA   \n",
      "25    26                             Emory University    GA   \n",
      "26    27                          New York University    NY   \n",
      "27    28                            Lehigh University    PA   \n",
      "28    29           University of Virginia-Main Campus    VA   \n",
      "30    31             University of Michigan-Ann Arbor    MI   \n",
      "32    33                            Boston University    MA   \n",
      "33    34                               Boston College    MA   \n",
      "34    35                      Northeastern University    MA   \n",
      "36    37               Tulane University of Louisiana    LA   \n",
      "38    39                      University of Rochester    NY   \n",
      "39    40                 George Washington University    DC   \n",
      "42    43              Stevens Institute of Technology    NJ   \n",
      "44    45                          Brandeis University    MA   \n",
      "46    47                         Villanova University    PA   \n",
      "49    50              Case Western Reserve University    OH   \n",
      "50    51                          American University    DC   \n",
      "51    52             Rensselaer Polytechnic Institute    NY   \n",
      "52    53                          University of Miami    FL   \n",
      "55    56                       Santa Clara University    CA   \n",
      "58    59                        Pepperdine University    CA   \n",
      "60    61                           Chapman University    CA   \n",
      "70    71                      University of San Diego    CA   \n",
      "74    75                  Loyola Marymount University    CA   \n",
      "75    76                Southern Methodist University    TX   \n",
      "77    78                           Fordham University    NY   \n",
      "79    80                       Wake Forest University    NC   \n",
      "81    82                          Syracuse University    NY   \n",
      "89    90                   Texas Christian University    TX   \n",
      "98    99                         University of Denver    CO   \n",
      "\n",
      "    Undergraduate Tuition & Fees  SAT Score  Acceptance Rate  Population  \\\n",
      "0                          56169     1505.0             0.04       17381   \n",
      "1                          54002     1515.0             0.05       31566   \n",
      "3                          53450     1540.0             0.07       11574   \n",
      "4                          61671     1505.0             0.05       31077   \n",
      "5                          57700     1515.0             0.06       13433   \n",
      "6                          56862     1545.0             0.06        2233   \n",
      "7                          60552     1535.0             0.06       17002   \n",
      "8                          60042     1505.0             0.08       25860   \n",
      "9                          60696     1505.0             0.07       10257   \n",
      "10                         58701     1495.0             0.09       22127   \n",
      "11                         60117     1500.0             0.08        6572   \n",
      "12                         57633     1525.0             0.08       16606   \n",
      "13                         59282     1480.0             0.11       23600   \n",
      "15                         54158     1510.0             0.09       12824   \n",
      "18                         57928     1465.0             0.14       19204   \n",
      "19                         60275     1445.0             0.11       47310   \n",
      "20                         54160     1510.0             0.11       26152   \n",
      "21                         57386     1520.0             0.14       15852   \n",
      "22                         57699     1475.0             0.16       12607   \n",
      "23                         60862     1465.0             0.15       11586   \n",
      "24                         58810     1510.0             0.15       14029   \n",
      "25                         53868     1445.0             0.16       14458   \n",
      "26                         54880     1440.0             0.16       51847   \n",
      "27                         55260     1365.0             0.32        6849   \n",
      "28                         52843     1430.0             0.24       24639   \n",
      "30                         52266     1435.0             0.23       46716   \n",
      "32                         58072     1425.0             0.19       34657   \n",
      "33                         60202     1420.0             0.27       14720   \n",
      "34                         55452     1465.0             0.18       21627   \n",
      "36                         58852     1440.0             0.13       12646   \n",
      "38                         58241     1405.0             0.30       11817   \n",
      "39                         58640     1375.0             0.41       28172   \n",
      "42                         55952     1420.0             0.40        6929   \n",
      "44                         57615     1435.0             0.30        5800   \n",
      "46                         57460     1395.0             0.28       11030   \n",
      "49                         52948     1425.0             0.27       11890   \n",
      "50                         51361     1300.0             0.36       14311   \n",
      "51                         57012     1390.0             0.47        7895   \n",
      "52                         53682     1355.0             0.27       17331   \n",
      "55                         52998     1360.0             0.49        8642   \n",
      "58                         58002     1340.0             0.32        7961   \n",
      "60                         57214     1285.0             0.56        9608   \n",
      "70                         52864     1280.0             0.49        9073   \n",
      "74                         52977     1320.0             0.44        9838   \n",
      "75                         58540     1390.0             0.47       11649   \n",
      "77                         56161     1345.0             0.46       16515   \n",
      "79                         57760        NaN             0.30        8401   \n",
      "81                         55926     1280.0             0.44       22803   \n",
      "89                         51660     1250.0             0.47       10918   \n",
      "98                         53775     1260.0             0.59       11952   \n",
      "\n",
      "    Graduation Rate  \n",
      "0              0.94  \n",
      "1              0.97  \n",
      "3              0.95  \n",
      "4              0.95  \n",
      "5              0.97  \n",
      "6              0.94  \n",
      "7              0.95  \n",
      "8              0.96  \n",
      "9              0.96  \n",
      "10             0.94  \n",
      "11             0.95  \n",
      "12             0.95  \n",
      "13             0.95  \n",
      "15             0.93  \n",
      "18             0.95  \n",
      "19             0.92  \n",
      "20             0.93  \n",
      "21             0.95  \n",
      "22             0.96  \n",
      "23             0.94  \n",
      "24             0.90  \n",
      "25             0.90  \n",
      "26             0.85  \n",
      "27             0.90  \n",
      "28             0.95  \n",
      "30             0.93  \n",
      "32             0.88  \n",
      "33             0.94  \n",
      "34             0.89  \n",
      "36             0.86  \n",
      "38             0.87  \n",
      "39             0.82  \n",
      "42             0.85  \n",
      "44             0.87  \n",
      "46             0.90  \n",
      "49             0.84  \n",
      "50             0.79  \n",
      "51             0.85  \n",
      "52             0.83  \n",
      "55             0.91  \n",
      "58             0.86  \n",
      "60             0.81  \n",
      "70             0.81  \n",
      "74             0.80  \n",
      "75             0.81  \n",
      "77             0.83  \n",
      "79             0.88  \n",
      "81             0.83  \n",
      "89             0.83  \n",
      "98             0.77  \n"
     ]
    }
   ],
   "source": [
    "print(df[df['Undergraduate Tuition & Fees'] >= 51361])"
   ]
  },
  {
   "cell_type": "markdown",
   "id": "d0903879-5829-4880-9182-1cb01d3a8048",
   "metadata": {},
   "source": [
    "Let's see which states have the most/least colleges in the top 100"
   ]
  },
  {
   "cell_type": "code",
   "execution_count": 36,
   "id": "5f33eb45-fbb5-4898-b4bb-50bc17adbec1",
   "metadata": {},
   "outputs": [],
   "source": [
    "state_counts = df.groupby('State')['State'].count()"
   ]
  },
  {
   "cell_type": "code",
   "execution_count": 37,
   "id": "afb7ea91-f0b9-4279-b9e0-72c6d2d28b0b",
   "metadata": {},
   "outputs": [
    {
     "name": "stdout",
     "output_type": "stream",
     "text": [
      "State\n",
      " AR     1\n",
      " AZ     1\n",
      " CA    16\n",
      " CO     2\n",
      " CT     2\n",
      " DC     3\n",
      " DE     1\n",
      " FL     5\n",
      " GA     3\n",
      " HI     1\n",
      " IL     4\n",
      " IN     2\n",
      " LA     1\n",
      " MA     8\n",
      " MD     2\n",
      " MI     2\n",
      " MN     1\n",
      " MO     2\n",
      " NC     4\n",
      " NH     1\n",
      " NJ     3\n",
      " NY     9\n",
      " OH     2\n",
      " OK     1\n",
      " PA     6\n",
      " RI     1\n",
      " TN     2\n",
      " TX     7\n",
      " UT     1\n",
      " VA     3\n",
      " WA     1\n",
      " WI     1\n",
      "Name: State, dtype: int64\n"
     ]
    }
   ],
   "source": [
    "print(state_counts)"
   ]
  },
  {
   "cell_type": "markdown",
   "id": "ad22ec4f-dcd1-407d-a211-89c097d23b3a",
   "metadata": {},
   "source": [
    "Let's visualize this"
   ]
  },
  {
   "cell_type": "code",
   "execution_count": 38,
   "id": "0328bd3e-2611-46eb-b2fc-5189339ed7b1",
   "metadata": {},
   "outputs": [
    {
     "data": {
      "image/png": "[encoded data removed]",
      "text/plain": [
       "<Figure size 432x288 with 1 Axes>"
      ]
     },
     "metadata": {},
     "output_type": "display_data"
    }
   ],
   "source": [
    "plt.pie(state_counts, labels = ['AR', 'AZ', 'CA', 'CO', 'CT', 'DC', 'DE', 'FL', 'GA', 'HI', 'IL', 'IN', 'LA', \n",
    "                                'MA', 'MD', 'MI', 'MN', 'MO', 'NC', 'NH', 'NJ', 'NY', 'OH', 'OK', 'PA', 'RI', \n",
    "                                'TN', 'TX', 'UT', 'VA', 'WA', 'WI'], colors = plt.cm.tab20b(np.arange(32)/32.), wedgeprops = {\"edgecolor\" : \"black\"}, labeldistance=1.2)\n",
    "plt.title('Top 100 US Colleges per State', pad=32)\n",
    "plt.show()"
   ]
  },
  {
   "cell_type": "markdown",
   "id": "bb0cd1dd-adec-457a-923f-b3be716caa03",
   "metadata": {},
   "source": [
    "California looks to be the place to be for good colleges, though New York and Massachusetts aren't bad picks either"
   ]
  },
  {
   "cell_type": "code",
   "execution_count": 39,
   "id": "88dbc0dc-636b-4103-97ee-d8d0de3a361c",
   "metadata": {},
   "outputs": [
    {
     "data": {
      "image/png": "[encoded data removed]",
      "text/plain": [
       "<Figure size 432x288 with 1 Axes>"
      ]
     },
     "metadata": {
      "needs_background": "light"
     },
     "output_type": "display_data"
    }
   ],
   "source": [
    "plt.scatter(df['Acceptance Rate'], df['SAT Score'], color='red', marker='^')\n",
    "plt.title('Acceptance Rate vs SAT Score')\n",
    "plt.show()"
   ]
  },
  {
   "cell_type": "code",
   "execution_count": 40,
   "id": "eb1e4ccf-8866-435f-abf5-f00e1bdf146d",
   "metadata": {},
   "outputs": [
    {
     "data": {
      "image/png": "[encoded data removed]",
      "text/plain": [
       "<Figure size 432x288 with 1 Axes>"
      ]
     },
     "metadata": {
      "needs_background": "light"
     },
     "output_type": "display_data"
    }
   ],
   "source": [
    "plt.scatter(df['Acceptance Rate'], df['Graduation Rate'], color='green', marker=',')\n",
    "plt.title('Acceptance Rate vs Graduation Rate')\n",
    "plt.show()"
   ]
  },
  {
   "cell_type": "code",
   "execution_count": 41,
   "id": "cf95bcf7-6901-47e3-8d7f-71ba5c5aa268",
   "metadata": {},
   "outputs": [
    {
     "data": {
      "image/png": "[encoded data removed]",
      "text/plain": [
       "<Figure size 432x288 with 1 Axes>"
      ]
     },
     "metadata": {
      "needs_background": "light"
     },
     "output_type": "display_data"
    }
   ],
   "source": [
    "plt.scatter(df['Graduation Rate'], df['SAT Score'], color='purple', marker='v')\n",
    "plt.title('Graduation Rate vs SAT Score')\n",
    "plt.show()"
   ]
  },
  {
   "cell_type": "code",
   "execution_count": 42,
   "id": "153adbf9-3228-4688-8337-2e8f18fde0b0",
   "metadata": {},
   "outputs": [
    {
     "data": {
      "image/png": "[encoded data removed]",
      "text/plain": [
       "<Figure size 432x288 with 1 Axes>"
      ]
     },
     "metadata": {
      "needs_background": "light"
     },
     "output_type": "display_data"
    }
   ],
   "source": [
    "plt.scatter(df['Rank'], df['Graduation Rate'], color='orange', marker='.')\n",
    "plt.title('Rank vs Graduation Rate')\n",
    "plt.show()"
   ]
  },
  {
   "cell_type": "code",
   "execution_count": 43,
   "id": "eca702f1-4ed1-4aed-8c30-c1a38ec3f186",
   "metadata": {},
   "outputs": [
    {
     "data": {
      "image/png": "[encoded data removed]",
      "text/plain": [
       "<Figure size 432x288 with 1 Axes>"
      ]
     },
     "metadata": {
      "needs_background": "light"
     },
     "output_type": "display_data"
    }
   ],
   "source": [
    "plt.scatter(df['Rank'], df['Acceptance Rate'], color='deepskyblue', marker='<')\n",
    "plt.title('Rank vs Acceptance Rate')\n",
    "plt.show()"
   ]
  },
  {
   "cell_type": "code",
   "execution_count": 44,
   "id": "e2174b0b-15b4-467f-ac6f-718bb9ae6f7e",
   "metadata": {},
   "outputs": [
    {
     "data": {
      "image/png": "[encoded data removed]",
      "text/plain": [
       "<Figure size 432x288 with 1 Axes>"
      ]
     },
     "metadata": {
      "needs_background": "light"
     },
     "output_type": "display_data"
    }
   ],
   "source": [
    "plt.scatter(df['Rank'], df['SAT Score'], color='blueviolet', marker='>')\n",
    "plt.title('Rank vs SAT Score')\n",
    "plt.show()"
   ]
  }
 ],
 "metadata": {
  "kernelspec": {
   "display_name": "Python 3 (ipykernel)",
   "language": "python",
   "name": "python3"
  },
  "language_info": {
   "codemirror_mode": {
    "name": "ipython",
    "version": 3
   },
   "file_extension": ".py",
   "mimetype": "text/x-python",
   "name": "python",
   "nbconvert_exporter": "python",
   "pygments_lexer": "ipython3",
   "version": "3.9.7"
  }
 },
 "nbformat": 4,
 "nbformat_minor": 5
}
